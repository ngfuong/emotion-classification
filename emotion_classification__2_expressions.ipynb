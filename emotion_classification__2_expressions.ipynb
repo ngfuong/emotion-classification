{
  "nbformat": 4,
  "nbformat_minor": 0,
  "metadata": {
    "colab": {
      "name": "[WQ]emotion-classification _2-expressions",
      "provenance": [],
      "collapsed_sections": [
        "xGk7dQjlCx2V"
      ]
    },
    "kernelspec": {
      "name": "python3",
      "display_name": "Python 3"
    },
    "language_info": {
      "name": "python"
    },
    "accelerator": "GPU"
  },
  "cells": [
    {
      "cell_type": "code",
      "metadata": {
        "colab": {
          "base_uri": "https://localhost:8080/"
        },
        "id": "sLp_wUzT6yb8",
        "outputId": "7f448b9a-d258-40fe-9035-82a59f04469e"
      },
      "source": [
        "from google.colab import drive\n",
        "\n",
        "drive.mount('/content/drive')"
      ],
      "execution_count": 1,
      "outputs": [
        {
          "output_type": "stream",
          "name": "stdout",
          "text": [
            "Mounted at /content/drive\n"
          ]
        }
      ]
    },
    {
      "cell_type": "code",
      "metadata": {
        "id": "FIvvolyDmaD6"
      },
      "source": [
        "import random\n",
        "import os\n",
        "import pandas as pd\n",
        "import numpy as np\n",
        "import matplotlib.pyplot as plt\n",
        "\n",
        "from sklearn.metrics import confusion_matrix\n",
        "from mlxtend.plotting import plot_confusion_matrix\n",
        "\n",
        "import tensorflow as tf\n",
        "from keras import models\n",
        "from keras.layers import Dense, Dropout, Flatten, Conv2D, MaxPool2D\n",
        "from tensorflow.keras.optimizers import RMSprop, Adam\n",
        "from tensorflow.keras.utils import to_categorical"
      ],
      "execution_count": 2,
      "outputs": []
    },
    {
      "cell_type": "markdown",
      "metadata": {
        "id": "xGk7dQjlCx2V"
      },
      "source": [
        "# Data Download \n",
        "Upload kaggle API credentials to runtime"
      ]
    },
    {
      "cell_type": "code",
      "metadata": {
        "id": "tRyP61FjhkIl"
      },
      "source": [
        "# Upload Kaggle credentials to runtime prior to running this block\n",
        "with open('./kaggle.json', 'r') as f:\n",
        "    data = json.load(f)\n",
        "    os.environ['KAGGLE_USERNAME'] = data['username']\n",
        "    os.environ['KAGGLE_KEY'] = data['key']"
      ],
      "execution_count": null,
      "outputs": []
    },
    {
      "cell_type": "code",
      "metadata": {
        "id": "HkfEbfZHiYl3"
      },
      "source": [
        "data_dir = \"/content/drive/MyDrive/assets/data/Fer2013\"\n",
        "if not os.path.exists(data_dir):\n",
        "    os.makedirs(data_dir)"
      ],
      "execution_count": null,
      "outputs": []
    },
    {
      "cell_type": "code",
      "metadata": {
        "colab": {
          "base_uri": "https://localhost:8080/"
        },
        "id": "ooFsKpxoitbJ",
        "outputId": "5a9314f4-51a5-4760-f75c-31f9d965072e"
      },
      "source": [
        "os.chdir(data_dir)\n",
        "!kaggle competitions download -c challenges-in-representation-learning-facial-expression-recognition-challenge"
      ],
      "execution_count": null,
      "outputs": [
        {
          "output_type": "stream",
          "name": "stdout",
          "text": [
            "Warning: Looks like you're using an outdated API Version, please consider updating (server 1.5.12 / client 1.5.4)\n",
            "Downloading example_submission.csv to /content/drive/MyDrive/assets/data/Fer2013\n",
            "  0% 0.00/7.01k [00:00<?, ?B/s]\n",
            "100% 7.01k/7.01k [00:00<00:00, 1.02MB/s]\n",
            "Downloading fer2013.tar.gz to /content/drive/My Drive/assets/data/Fer2013\n",
            "100% 92.0M/92.0M [00:00<00:00, 101MB/s] \n",
            "\n",
            "Downloading test.csv.zip to /content/drive/My Drive/assets/data/Fer2013\n",
            " 88% 17.0M/19.3M [00:00<00:00, 71.3MB/s]\n",
            "100% 19.3M/19.3M [00:00<00:00, 74.3MB/s]\n",
            "Downloading icml_face_data.csv.zip to /content/drive/My Drive/assets/data/Fer2013\n",
            " 91% 88.0M/96.6M [00:01<00:00, 97.4MB/s]\n",
            "100% 96.6M/96.6M [00:01<00:00, 84.9MB/s]\n",
            "Downloading train.csv.zip to /content/drive/My Drive/assets/data/Fer2013\n",
            " 92% 71.0M/77.3M [00:00<00:00, 74.8MB/s]\n",
            "100% 77.3M/77.3M [00:01<00:00, 78.9MB/s]\n"
          ]
        }
      ]
    },
    {
      "cell_type": "code",
      "metadata": {
        "colab": {
          "base_uri": "https://localhost:8080/"
        },
        "id": "hPmOJE4WDImR",
        "outputId": "efabd602-e5cb-4e92-d12a-0593876e2b7a"
      },
      "source": [
        "!tar -xvf fer2013.tar.gz\n",
        "!unzip test.csv.zip\n",
        "!unzip train.csv.zip\n",
        "!unzip icml_face_data.csv.zip"
      ],
      "execution_count": null,
      "outputs": [
        {
          "output_type": "stream",
          "name": "stdout",
          "text": [
            "fer2013/fer2013.csv\n",
            "fer2013/README\n",
            "fer2013/fer2013.bib\n",
            "fer2013/\n",
            "Archive:  test.csv.zip\n",
            "  inflating: test.csv                \n",
            "Archive:  train.csv.zip\n",
            "  inflating: train.csv               \n",
            "Archive:  icml_face_data.csv.zip\n",
            "  inflating: icml_face_data.csv      \n"
          ]
        }
      ]
    },
    {
      "cell_type": "code",
      "metadata": {
        "id": "NcOgE7DAnPz2"
      },
      "source": [
        "!rm fer2013.tar.gz test.csv.zip train.csv.zip icml_face_data.csv.zip"
      ],
      "execution_count": null,
      "outputs": []
    },
    {
      "cell_type": "code",
      "metadata": {
        "id": "9OABpw9tDtHP"
      },
      "source": [
        "!mv fer2013/fer2013.csv ./"
      ],
      "execution_count": null,
      "outputs": []
    },
    {
      "cell_type": "markdown",
      "metadata": {
        "id": "rQ4nYaNKNKXH"
      },
      "source": [
        "# Dataset"
      ]
    },
    {
      "cell_type": "code",
      "metadata": {
        "colab": {
          "base_uri": "https://localhost:8080/",
          "height": 206
        },
        "id": "r1Orc6BhmtuL",
        "outputId": "93357cd9-261f-4102-a827-95f45e12733d"
      },
      "source": [
        "# Change data directory (icml_face_data) accoringly\n",
        "data_dir = \"/content/drive/MyDrive/assets/data/Fer2013\"\n",
        "data = pd.read_csv(data_dir + '/icml_face_data.csv')\n",
        "data.head()"
      ],
      "execution_count": 3,
      "outputs": [
        {
          "output_type": "execute_result",
          "data": {
            "text/html": [
              "<div>\n",
              "<style scoped>\n",
              "    .dataframe tbody tr th:only-of-type {\n",
              "        vertical-align: middle;\n",
              "    }\n",
              "\n",
              "    .dataframe tbody tr th {\n",
              "        vertical-align: top;\n",
              "    }\n",
              "\n",
              "    .dataframe thead th {\n",
              "        text-align: right;\n",
              "    }\n",
              "</style>\n",
              "<table border=\"1\" class=\"dataframe\">\n",
              "  <thead>\n",
              "    <tr style=\"text-align: right;\">\n",
              "      <th></th>\n",
              "      <th>emotion</th>\n",
              "      <th>Usage</th>\n",
              "      <th>pixels</th>\n",
              "    </tr>\n",
              "  </thead>\n",
              "  <tbody>\n",
              "    <tr>\n",
              "      <th>0</th>\n",
              "      <td>0</td>\n",
              "      <td>Training</td>\n",
              "      <td>70 80 82 72 58 58 60 63 54 58 60 48 89 115 121...</td>\n",
              "    </tr>\n",
              "    <tr>\n",
              "      <th>1</th>\n",
              "      <td>0</td>\n",
              "      <td>Training</td>\n",
              "      <td>151 150 147 155 148 133 111 140 170 174 182 15...</td>\n",
              "    </tr>\n",
              "    <tr>\n",
              "      <th>2</th>\n",
              "      <td>2</td>\n",
              "      <td>Training</td>\n",
              "      <td>231 212 156 164 174 138 161 173 182 200 106 38...</td>\n",
              "    </tr>\n",
              "    <tr>\n",
              "      <th>3</th>\n",
              "      <td>4</td>\n",
              "      <td>Training</td>\n",
              "      <td>24 32 36 30 32 23 19 20 30 41 21 22 32 34 21 1...</td>\n",
              "    </tr>\n",
              "    <tr>\n",
              "      <th>4</th>\n",
              "      <td>6</td>\n",
              "      <td>Training</td>\n",
              "      <td>4 0 0 0 0 0 0 0 0 0 0 0 3 15 23 28 48 50 58 84...</td>\n",
              "    </tr>\n",
              "  </tbody>\n",
              "</table>\n",
              "</div>"
            ],
            "text/plain": [
              "   emotion     Usage                                             pixels\n",
              "0        0  Training  70 80 82 72 58 58 60 63 54 58 60 48 89 115 121...\n",
              "1        0  Training  151 150 147 155 148 133 111 140 170 174 182 15...\n",
              "2        2  Training  231 212 156 164 174 138 161 173 182 200 106 38...\n",
              "3        4  Training  24 32 36 30 32 23 19 20 30 41 21 22 32 34 21 1...\n",
              "4        6  Training  4 0 0 0 0 0 0 0 0 0 0 0 3 15 23 28 48 50 58 84..."
            ]
          },
          "metadata": {},
          "execution_count": 3
        }
      ]
    },
    {
      "cell_type": "markdown",
      "metadata": {
        "id": "T4COD6SmWyuR"
      },
      "source": [
        "## Filter dataset to 2 classes = [Happy, Sad]"
      ]
    },
    {
      "cell_type": "code",
      "metadata": {
        "id": "6CKILehLznIY"
      },
      "source": [
        "# emotions = {0: 'Angry',\n",
        "#             1: 'Disgust',\n",
        "#             2: 'Fear',\n",
        "#             3: 'Happy',\n",
        "#             4: 'Sad',\n",
        "#             5: 'Surprise',\n",
        "#             6: 'Neutral'}\n",
        "\n",
        "# emotions_filtered = {3:'Happy',\n",
        "#                      4:'Sad'\n",
        "#                     }\n",
        "\n",
        "\n",
        "convert_emotions = {3: 0,\n",
        "                    4: 1}\n",
        "\n",
        "selected_classes = list(convert_emotions.keys())\n",
        "\n",
        "selected_emotions = {0: 'Happy',\n",
        "                     1: 'Sad'}"
      ],
      "execution_count": 4,
      "outputs": []
    },
    {
      "cell_type": "code",
      "metadata": {
        "colab": {
          "base_uri": "https://localhost:8080/",
          "height": 424
        },
        "id": "U03kUzvvzvqH",
        "outputId": "4678cfa3-1232-4907-e6f9-1b58595466cd"
      },
      "source": [
        "data_filtered = pd.DataFrame(columns=['emotion', ' Usage', ' pixels'])\n",
        "for i, row in enumerate(data.index):\n",
        "    if data.loc[row, 'emotion'] in selected_classes:\n",
        "        data_filtered = data_filtered.append(data.iloc[i])\n",
        "data_filtered"
      ],
      "execution_count": 5,
      "outputs": [
        {
          "output_type": "execute_result",
          "data": {
            "text/html": [
              "<div>\n",
              "<style scoped>\n",
              "    .dataframe tbody tr th:only-of-type {\n",
              "        vertical-align: middle;\n",
              "    }\n",
              "\n",
              "    .dataframe tbody tr th {\n",
              "        vertical-align: top;\n",
              "    }\n",
              "\n",
              "    .dataframe thead th {\n",
              "        text-align: right;\n",
              "    }\n",
              "</style>\n",
              "<table border=\"1\" class=\"dataframe\">\n",
              "  <thead>\n",
              "    <tr style=\"text-align: right;\">\n",
              "      <th></th>\n",
              "      <th>emotion</th>\n",
              "      <th>Usage</th>\n",
              "      <th>pixels</th>\n",
              "    </tr>\n",
              "  </thead>\n",
              "  <tbody>\n",
              "    <tr>\n",
              "      <th>3</th>\n",
              "      <td>4</td>\n",
              "      <td>Training</td>\n",
              "      <td>24 32 36 30 32 23 19 20 30 41 21 22 32 34 21 1...</td>\n",
              "    </tr>\n",
              "    <tr>\n",
              "      <th>6</th>\n",
              "      <td>4</td>\n",
              "      <td>Training</td>\n",
              "      <td>20 17 19 21 25 38 42 42 46 54 56 62 63 66 82 1...</td>\n",
              "    </tr>\n",
              "    <tr>\n",
              "      <th>7</th>\n",
              "      <td>3</td>\n",
              "      <td>Training</td>\n",
              "      <td>77 78 79 79 78 75 60 55 47 48 58 73 77 79 57 5...</td>\n",
              "    </tr>\n",
              "    <tr>\n",
              "      <th>8</th>\n",
              "      <td>3</td>\n",
              "      <td>Training</td>\n",
              "      <td>85 84 90 121 101 102 133 153 153 169 177 189 1...</td>\n",
              "    </tr>\n",
              "    <tr>\n",
              "      <th>14</th>\n",
              "      <td>3</td>\n",
              "      <td>Training</td>\n",
              "      <td>4 2 13 41 56 62 67 87 95 62 65 70 80 107 127 1...</td>\n",
              "    </tr>\n",
              "    <tr>\n",
              "      <th>...</th>\n",
              "      <td>...</td>\n",
              "      <td>...</td>\n",
              "      <td>...</td>\n",
              "    </tr>\n",
              "    <tr>\n",
              "      <th>35869</th>\n",
              "      <td>3</td>\n",
              "      <td>PrivateTest</td>\n",
              "      <td>217 220 222 223 223 224 225 223 223 225 223 22...</td>\n",
              "    </tr>\n",
              "    <tr>\n",
              "      <th>35873</th>\n",
              "      <td>4</td>\n",
              "      <td>PrivateTest</td>\n",
              "      <td>54 57 77 122 121 76 73 80 58 22 26 27 35 41 66...</td>\n",
              "    </tr>\n",
              "    <tr>\n",
              "      <th>35878</th>\n",
              "      <td>3</td>\n",
              "      <td>PrivateTest</td>\n",
              "      <td>0 39 81 80 104 97 51 64 68 46 41 67 53 68 70 5...</td>\n",
              "    </tr>\n",
              "    <tr>\n",
              "      <th>35883</th>\n",
              "      <td>3</td>\n",
              "      <td>PrivateTest</td>\n",
              "      <td>178 174 172 173 181 188 191 194 196 199 200 20...</td>\n",
              "    </tr>\n",
              "    <tr>\n",
              "      <th>35885</th>\n",
              "      <td>3</td>\n",
              "      <td>PrivateTest</td>\n",
              "      <td>30 28 28 29 31 30 42 68 79 81 77 67 67 71 63 6...</td>\n",
              "    </tr>\n",
              "  </tbody>\n",
              "</table>\n",
              "<p>15066 rows × 3 columns</p>\n",
              "</div>"
            ],
            "text/plain": [
              "      emotion        Usage                                             pixels\n",
              "3           4     Training  24 32 36 30 32 23 19 20 30 41 21 22 32 34 21 1...\n",
              "6           4     Training  20 17 19 21 25 38 42 42 46 54 56 62 63 66 82 1...\n",
              "7           3     Training  77 78 79 79 78 75 60 55 47 48 58 73 77 79 57 5...\n",
              "8           3     Training  85 84 90 121 101 102 133 153 153 169 177 189 1...\n",
              "14          3     Training  4 2 13 41 56 62 67 87 95 62 65 70 80 107 127 1...\n",
              "...       ...          ...                                                ...\n",
              "35869       3  PrivateTest  217 220 222 223 223 224 225 223 223 225 223 22...\n",
              "35873       4  PrivateTest  54 57 77 122 121 76 73 80 58 22 26 27 35 41 66...\n",
              "35878       3  PrivateTest  0 39 81 80 104 97 51 64 68 46 41 67 53 68 70 5...\n",
              "35883       3  PrivateTest  178 174 172 173 181 188 191 194 196 199 200 20...\n",
              "35885       3  PrivateTest  30 28 28 29 31 30 42 68 79 81 77 67 67 71 63 6...\n",
              "\n",
              "[15066 rows x 3 columns]"
            ]
          },
          "metadata": {},
          "execution_count": 5
        }
      ]
    },
    {
      "cell_type": "code",
      "metadata": {
        "colab": {
          "base_uri": "https://localhost:8080/",
          "height": 424
        },
        "id": "gjQKYafq17yZ",
        "outputId": "eed5c396-c77c-4618-8d43-55c298353631"
      },
      "source": [
        "data_filtered.reset_index(inplace=True)\n",
        "data_filtered.drop(['index'], axis=1, inplace=True)\n",
        "data_filtered"
      ],
      "execution_count": 6,
      "outputs": [
        {
          "output_type": "execute_result",
          "data": {
            "text/html": [
              "<div>\n",
              "<style scoped>\n",
              "    .dataframe tbody tr th:only-of-type {\n",
              "        vertical-align: middle;\n",
              "    }\n",
              "\n",
              "    .dataframe tbody tr th {\n",
              "        vertical-align: top;\n",
              "    }\n",
              "\n",
              "    .dataframe thead th {\n",
              "        text-align: right;\n",
              "    }\n",
              "</style>\n",
              "<table border=\"1\" class=\"dataframe\">\n",
              "  <thead>\n",
              "    <tr style=\"text-align: right;\">\n",
              "      <th></th>\n",
              "      <th>emotion</th>\n",
              "      <th>Usage</th>\n",
              "      <th>pixels</th>\n",
              "    </tr>\n",
              "  </thead>\n",
              "  <tbody>\n",
              "    <tr>\n",
              "      <th>0</th>\n",
              "      <td>4</td>\n",
              "      <td>Training</td>\n",
              "      <td>24 32 36 30 32 23 19 20 30 41 21 22 32 34 21 1...</td>\n",
              "    </tr>\n",
              "    <tr>\n",
              "      <th>1</th>\n",
              "      <td>4</td>\n",
              "      <td>Training</td>\n",
              "      <td>20 17 19 21 25 38 42 42 46 54 56 62 63 66 82 1...</td>\n",
              "    </tr>\n",
              "    <tr>\n",
              "      <th>2</th>\n",
              "      <td>3</td>\n",
              "      <td>Training</td>\n",
              "      <td>77 78 79 79 78 75 60 55 47 48 58 73 77 79 57 5...</td>\n",
              "    </tr>\n",
              "    <tr>\n",
              "      <th>3</th>\n",
              "      <td>3</td>\n",
              "      <td>Training</td>\n",
              "      <td>85 84 90 121 101 102 133 153 153 169 177 189 1...</td>\n",
              "    </tr>\n",
              "    <tr>\n",
              "      <th>4</th>\n",
              "      <td>3</td>\n",
              "      <td>Training</td>\n",
              "      <td>4 2 13 41 56 62 67 87 95 62 65 70 80 107 127 1...</td>\n",
              "    </tr>\n",
              "    <tr>\n",
              "      <th>...</th>\n",
              "      <td>...</td>\n",
              "      <td>...</td>\n",
              "      <td>...</td>\n",
              "    </tr>\n",
              "    <tr>\n",
              "      <th>15061</th>\n",
              "      <td>3</td>\n",
              "      <td>PrivateTest</td>\n",
              "      <td>217 220 222 223 223 224 225 223 223 225 223 22...</td>\n",
              "    </tr>\n",
              "    <tr>\n",
              "      <th>15062</th>\n",
              "      <td>4</td>\n",
              "      <td>PrivateTest</td>\n",
              "      <td>54 57 77 122 121 76 73 80 58 22 26 27 35 41 66...</td>\n",
              "    </tr>\n",
              "    <tr>\n",
              "      <th>15063</th>\n",
              "      <td>3</td>\n",
              "      <td>PrivateTest</td>\n",
              "      <td>0 39 81 80 104 97 51 64 68 46 41 67 53 68 70 5...</td>\n",
              "    </tr>\n",
              "    <tr>\n",
              "      <th>15064</th>\n",
              "      <td>3</td>\n",
              "      <td>PrivateTest</td>\n",
              "      <td>178 174 172 173 181 188 191 194 196 199 200 20...</td>\n",
              "    </tr>\n",
              "    <tr>\n",
              "      <th>15065</th>\n",
              "      <td>3</td>\n",
              "      <td>PrivateTest</td>\n",
              "      <td>30 28 28 29 31 30 42 68 79 81 77 67 67 71 63 6...</td>\n",
              "    </tr>\n",
              "  </tbody>\n",
              "</table>\n",
              "<p>15066 rows × 3 columns</p>\n",
              "</div>"
            ],
            "text/plain": [
              "      emotion        Usage                                             pixels\n",
              "0           4     Training  24 32 36 30 32 23 19 20 30 41 21 22 32 34 21 1...\n",
              "1           4     Training  20 17 19 21 25 38 42 42 46 54 56 62 63 66 82 1...\n",
              "2           3     Training  77 78 79 79 78 75 60 55 47 48 58 73 77 79 57 5...\n",
              "3           3     Training  85 84 90 121 101 102 133 153 153 169 177 189 1...\n",
              "4           3     Training  4 2 13 41 56 62 67 87 95 62 65 70 80 107 127 1...\n",
              "...       ...          ...                                                ...\n",
              "15061       3  PrivateTest  217 220 222 223 223 224 225 223 223 225 223 22...\n",
              "15062       4  PrivateTest  54 57 77 122 121 76 73 80 58 22 26 27 35 41 66...\n",
              "15063       3  PrivateTest  0 39 81 80 104 97 51 64 68 46 41 67 53 68 70 5...\n",
              "15064       3  PrivateTest  178 174 172 173 181 188 191 194 196 199 200 20...\n",
              "15065       3  PrivateTest  30 28 28 29 31 30 42 68 79 81 77 67 67 71 63 6...\n",
              "\n",
              "[15066 rows x 3 columns]"
            ]
          },
          "metadata": {},
          "execution_count": 6
        }
      ]
    },
    {
      "cell_type": "code",
      "metadata": {
        "colab": {
          "base_uri": "https://localhost:8080/",
          "height": 424
        },
        "collapsed": true,
        "id": "_uvv-77Z0lAx",
        "outputId": "121345fe-aee7-43ce-9069-c1b159b91561"
      },
      "source": [
        "import copy\n",
        "\n",
        "new_data = copy.deepcopy(data_filtered)\n",
        "for i in range(len(new_data)):\n",
        "    new_data.emotion[i] = convert_emotions[new_data.emotion[i]]\n",
        "\n",
        "new_data"
      ],
      "execution_count": 7,
      "outputs": [
        {
          "output_type": "execute_result",
          "data": {
            "text/html": [
              "<div>\n",
              "<style scoped>\n",
              "    .dataframe tbody tr th:only-of-type {\n",
              "        vertical-align: middle;\n",
              "    }\n",
              "\n",
              "    .dataframe tbody tr th {\n",
              "        vertical-align: top;\n",
              "    }\n",
              "\n",
              "    .dataframe thead th {\n",
              "        text-align: right;\n",
              "    }\n",
              "</style>\n",
              "<table border=\"1\" class=\"dataframe\">\n",
              "  <thead>\n",
              "    <tr style=\"text-align: right;\">\n",
              "      <th></th>\n",
              "      <th>emotion</th>\n",
              "      <th>Usage</th>\n",
              "      <th>pixels</th>\n",
              "    </tr>\n",
              "  </thead>\n",
              "  <tbody>\n",
              "    <tr>\n",
              "      <th>0</th>\n",
              "      <td>1</td>\n",
              "      <td>Training</td>\n",
              "      <td>24 32 36 30 32 23 19 20 30 41 21 22 32 34 21 1...</td>\n",
              "    </tr>\n",
              "    <tr>\n",
              "      <th>1</th>\n",
              "      <td>1</td>\n",
              "      <td>Training</td>\n",
              "      <td>20 17 19 21 25 38 42 42 46 54 56 62 63 66 82 1...</td>\n",
              "    </tr>\n",
              "    <tr>\n",
              "      <th>2</th>\n",
              "      <td>0</td>\n",
              "      <td>Training</td>\n",
              "      <td>77 78 79 79 78 75 60 55 47 48 58 73 77 79 57 5...</td>\n",
              "    </tr>\n",
              "    <tr>\n",
              "      <th>3</th>\n",
              "      <td>0</td>\n",
              "      <td>Training</td>\n",
              "      <td>85 84 90 121 101 102 133 153 153 169 177 189 1...</td>\n",
              "    </tr>\n",
              "    <tr>\n",
              "      <th>4</th>\n",
              "      <td>0</td>\n",
              "      <td>Training</td>\n",
              "      <td>4 2 13 41 56 62 67 87 95 62 65 70 80 107 127 1...</td>\n",
              "    </tr>\n",
              "    <tr>\n",
              "      <th>...</th>\n",
              "      <td>...</td>\n",
              "      <td>...</td>\n",
              "      <td>...</td>\n",
              "    </tr>\n",
              "    <tr>\n",
              "      <th>15061</th>\n",
              "      <td>0</td>\n",
              "      <td>PrivateTest</td>\n",
              "      <td>217 220 222 223 223 224 225 223 223 225 223 22...</td>\n",
              "    </tr>\n",
              "    <tr>\n",
              "      <th>15062</th>\n",
              "      <td>1</td>\n",
              "      <td>PrivateTest</td>\n",
              "      <td>54 57 77 122 121 76 73 80 58 22 26 27 35 41 66...</td>\n",
              "    </tr>\n",
              "    <tr>\n",
              "      <th>15063</th>\n",
              "      <td>0</td>\n",
              "      <td>PrivateTest</td>\n",
              "      <td>0 39 81 80 104 97 51 64 68 46 41 67 53 68 70 5...</td>\n",
              "    </tr>\n",
              "    <tr>\n",
              "      <th>15064</th>\n",
              "      <td>0</td>\n",
              "      <td>PrivateTest</td>\n",
              "      <td>178 174 172 173 181 188 191 194 196 199 200 20...</td>\n",
              "    </tr>\n",
              "    <tr>\n",
              "      <th>15065</th>\n",
              "      <td>0</td>\n",
              "      <td>PrivateTest</td>\n",
              "      <td>30 28 28 29 31 30 42 68 79 81 77 67 67 71 63 6...</td>\n",
              "    </tr>\n",
              "  </tbody>\n",
              "</table>\n",
              "<p>15066 rows × 3 columns</p>\n",
              "</div>"
            ],
            "text/plain": [
              "      emotion        Usage                                             pixels\n",
              "0           1     Training  24 32 36 30 32 23 19 20 30 41 21 22 32 34 21 1...\n",
              "1           1     Training  20 17 19 21 25 38 42 42 46 54 56 62 63 66 82 1...\n",
              "2           0     Training  77 78 79 79 78 75 60 55 47 48 58 73 77 79 57 5...\n",
              "3           0     Training  85 84 90 121 101 102 133 153 153 169 177 189 1...\n",
              "4           0     Training  4 2 13 41 56 62 67 87 95 62 65 70 80 107 127 1...\n",
              "...       ...          ...                                                ...\n",
              "15061       0  PrivateTest  217 220 222 223 223 224 225 223 223 225 223 22...\n",
              "15062       1  PrivateTest  54 57 77 122 121 76 73 80 58 22 26 27 35 41 66...\n",
              "15063       0  PrivateTest  0 39 81 80 104 97 51 64 68 46 41 67 53 68 70 5...\n",
              "15064       0  PrivateTest  178 174 172 173 181 188 191 194 196 199 200 20...\n",
              "15065       0  PrivateTest  30 28 28 29 31 30 42 68 79 81 77 67 67 71 63 6...\n",
              "\n",
              "[15066 rows x 3 columns]"
            ]
          },
          "metadata": {},
          "execution_count": 7
        }
      ]
    },
    {
      "cell_type": "markdown",
      "metadata": {
        "id": "ep4ftRElXFom"
      },
      "source": [
        "## Data Preparation"
      ]
    },
    {
      "cell_type": "code",
      "metadata": {
        "id": "ZAf2Ng-Xnc6f"
      },
      "source": [
        "def prepare_data(data):\n",
        "    \"\"\" Prepare data for modeling \n",
        "        input: data frame with labels und pixel data\n",
        "        output: image and label array \"\"\"\n",
        "    \n",
        "    image_array = np.zeros(shape=(len(data), 48, 48))\n",
        "    image_label = np.array(list(map(int, data['emotion'])))\n",
        "    \n",
        "    for i, row in enumerate(data.index):\n",
        "        image = np.fromstring(data.loc[row, ' pixels'], dtype=int, sep=' ')\n",
        "        image = np.reshape(image, (48, 48))\n",
        "        image_array[i] = image\n",
        "        \n",
        "    return image_array, image_label\n",
        "\n",
        "def plot_examples(label=0):\n",
        "    fig, axs = plt.subplots(1, 5, figsize=(12, 7))\n",
        "    fig.subplots_adjust(hspace = .2, wspace=.2)\n",
        "    axs = axs.ravel()\n",
        "    for i in range(5):\n",
        "        idx = data[data['emotion']==label].index[i]\n",
        "        axs[i].imshow(train_images[idx][:,:,0], cmap='gray')\n",
        "        axs[i].set_title(selected_emotions[train_labels[idx].argmax()])\n",
        "        axs[i].set_xticklabels([])\n",
        "        axs[i].set_yticklabels([])\n",
        "        \n",
        "def plot_all_emotions():\n",
        "    num_classes = len(new_data['emotion'].value_counts())\n",
        "    fig, axs = plt.subplots(1, num_classes, figsize=(15, 6))\n",
        "    fig.subplots_adjust(hspace = .2, wspace=.2)\n",
        "    axs = axs.ravel()\n",
        "    for i in range(num_classes):\n",
        "        idx = new_data[new_data['emotion']==i].index[i]\n",
        "        axs[i].imshow(train_images[idx][:,:,0], cmap='gray')\n",
        "        axs[i].set_title(selected_emotions[train_labels[idx].argmax()])\n",
        "        axs[i].set_xticklabels([])\n",
        "        axs[i].set_yticklabels([])\n",
        "        \n",
        "def plot_compare_distributions(array1, array2, title1='', title2=''):\n",
        "    df_array1 = pd.DataFrame()\n",
        "    df_array2 = pd.DataFrame()\n",
        "    df_array1['emotion'] = array1.argmax(axis=1)\n",
        "    df_array2['emotion'] = array2.argmax(axis=1)\n",
        "    \n",
        "    fig, axs = plt.subplots(1, 2, figsize=(12, 6), sharey=False)\n",
        "    x = selected_emotions.values()\n",
        "    \n",
        "    y = df_array1['emotion'].value_counts()\n",
        "    keys_missed = list(set(selected_emotions.keys()).difference(set(y.keys())))\n",
        "    for key_missed in keys_missed:\n",
        "        y[key_missed] = 0\n",
        "    axs[0].bar(x, y.sort_index(), color='orange')\n",
        "    axs[0].set_title(title1)\n",
        "    axs[0].grid()\n",
        "    \n",
        "    y = df_array2['emotion'].value_counts()\n",
        "    keys_missed = list(set(selected_emotions.keys()).difference(set(y.keys())))\n",
        "    for key_missed in keys_missed:\n",
        "        y[key_missed] = 0\n",
        "    axs[1].bar(x, y.sort_index())\n",
        "    axs[1].set_title(title2)\n",
        "    axs[1].grid()\n",
        "    \n",
        "    plt.show()"
      ],
      "execution_count": 8,
      "outputs": []
    },
    {
      "cell_type": "code",
      "metadata": {
        "colab": {
          "base_uri": "https://localhost:8080/"
        },
        "id": "SsgYUsTRnofa",
        "outputId": "507dbe44-ceb0-474c-9859-377009046389"
      },
      "source": [
        "new_data[' Usage'].value_counts()"
      ],
      "execution_count": 9,
      "outputs": [
        {
          "output_type": "execute_result",
          "data": {
            "text/plain": [
              "Training       12045\n",
              "PublicTest      1548\n",
              "PrivateTest     1473\n",
              "Name:  Usage, dtype: int64"
            ]
          },
          "metadata": {},
          "execution_count": 9
        }
      ]
    },
    {
      "cell_type": "code",
      "metadata": {
        "id": "_YdpJDMhnx-l"
      },
      "source": [
        "train_image_array, train_image_label = prepare_data(new_data[new_data[' Usage']=='Training'])\n",
        "val_image_array, val_image_label = prepare_data(new_data[new_data[' Usage']=='PrivateTest'])\n",
        "test_image_array, test_image_label = prepare_data(new_data[new_data[' Usage']=='PublicTest'])"
      ],
      "execution_count": 10,
      "outputs": []
    },
    {
      "cell_type": "code",
      "metadata": {
        "id": "SekD-q9vnzzg"
      },
      "source": [
        "train_images = train_image_array.reshape((train_image_array.shape[0], 48, 48, 1))\n",
        "train_images = train_images.astype('float32')/255\n",
        "val_images = val_image_array.reshape((val_image_array.shape[0], 48, 48, 1))\n",
        "val_images = val_images.astype('float32')/255\n",
        "test_images = test_image_array.reshape((test_image_array.shape[0], 48, 48, 1))\n",
        "test_images = test_images.astype('float32')/255"
      ],
      "execution_count": 11,
      "outputs": []
    },
    {
      "cell_type": "code",
      "metadata": {
        "id": "FBX8DNOgn3Ff"
      },
      "source": [
        "train_labels = to_categorical(train_image_label)\n",
        "val_labels = to_categorical(val_image_label)\n",
        "test_labels = to_categorical(test_image_label)"
      ],
      "execution_count": 12,
      "outputs": []
    },
    {
      "cell_type": "code",
      "metadata": {
        "colab": {
          "base_uri": "https://localhost:8080/",
          "height": 166
        },
        "id": "IswgpBiy58aN",
        "outputId": "2ba61a2b-79bd-4c70-86ec-0ec6ff9a3fe1"
      },
      "source": [
        "plot_examples()"
      ],
      "execution_count": 13,
      "outputs": [
        {
          "output_type": "display_data",
          "data": {
            "image/png": "[encoded data removed]",
            "text/plain": [
              "<Figure size 864x504 with 5 Axes>"
            ]
          },
          "metadata": {
            "needs_background": "light"
          }
        }
      ]
    },
    {
      "cell_type": "code",
      "metadata": {
        "colab": {
          "base_uri": "https://localhost:8080/",
          "height": 377
        },
        "id": "ZaplJ_zO-P6h",
        "outputId": "77ecef0b-58b4-4f4b-8560-246914b7abdc"
      },
      "source": [
        "plot_all_emotions()"
      ],
      "execution_count": 14,
      "outputs": [
        {
          "output_type": "display_data",
          "data": {
            "image/png": "[encoded data removed]",
            "text/plain": [
              "<Figure size 1080x432 with 2 Axes>"
            ]
          },
          "metadata": {
            "needs_background": "light"
          }
        }
      ]
    },
    {
      "cell_type": "code",
      "metadata": {
        "colab": {
          "base_uri": "https://localhost:8080/",
          "height": 390
        },
        "id": "AAR_isrnn9Wm",
        "outputId": "592b8154-1139-47e6-d174-5da0b46878d4"
      },
      "source": [
        "plot_compare_distributions(train_labels, val_labels, title1='Train set labels', title2='Val set labels')"
      ],
      "execution_count": 15,
      "outputs": [
        {
          "output_type": "display_data",
          "data": {
            "image/png": "[encoded data removed]",
            "text/plain": [
              "<Figure size 864x432 with 2 Axes>"
            ]
          },
          "metadata": {
            "needs_background": "light"
          }
        }
      ]
    },
    {
      "cell_type": "code",
      "metadata": {
        "colab": {
          "base_uri": "https://localhost:8080/"
        },
        "id": "-Dr-85-ooC7Q",
        "outputId": "56caaf51-11cd-4f9d-fac8-5532a8d40bb4"
      },
      "source": [
        "class_weight = dict(zip(range(0, 2), (((new_data[new_data[' Usage']=='Training']['emotion'].value_counts()).sort_index())/len(new_data[new_data[' Usage']=='Training']['emotion'])).tolist()))\n",
        "class_weight"
      ],
      "execution_count": 16,
      "outputs": [
        {
          "output_type": "execute_result",
          "data": {
            "text/plain": [
              "{0: 0.5990037359900373, 1: 0.40099626400996263}"
            ]
          },
          "metadata": {},
          "execution_count": 16
        }
      ]
    },
    {
      "cell_type": "markdown",
      "metadata": {
        "id": "x1l7AeipWQHT"
      },
      "source": [
        "# Define Model"
      ]
    },
    {
      "cell_type": "code",
      "metadata": {
        "id": "3U-QHA7ZoJSc"
      },
      "source": [
        "model = models.Sequential()\n",
        "model.add(Conv2D(32, (3, 3), activation='relu', input_shape=(48, 48, 1)))\n",
        "model.add(MaxPool2D((2, 2)))\n",
        "model.add(Conv2D(64, (3, 3), activation='relu'))\n",
        "model.add(MaxPool2D((2, 2)))\n",
        "model.add(Conv2D(64, (3, 3), activation='relu'))\n",
        "model.add(Flatten())\n",
        "model.add(Dense(64, activation='relu'))\n",
        "model.add(Dense(2, activation='softmax'))   # Change final activation input to num_classes==2"
      ],
      "execution_count": 27,
      "outputs": []
    },
    {
      "cell_type": "code",
      "metadata": {
        "colab": {
          "base_uri": "https://localhost:8080/"
        },
        "id": "y0mp0aqeoMAq",
        "outputId": "80cd249c-a884-4483-f277-65a23c3ddc78"
      },
      "source": [
        "model.compile(optimizer=Adam(learning_rate=1e-4), loss='categorical_crossentropy', metrics=['accuracy'])\n",
        "model.summary()"
      ],
      "execution_count": 28,
      "outputs": [
        {
          "output_type": "stream",
          "name": "stdout",
          "text": [
            "Model: \"sequential_3\"\n",
            "_________________________________________________________________\n",
            "Layer (type)                 Output Shape              Param #   \n",
            "=================================================================\n",
            "conv2d_9 (Conv2D)            (None, 46, 46, 32)        320       \n",
            "_________________________________________________________________\n",
            "max_pooling2d_6 (MaxPooling2 (None, 23, 23, 32)        0         \n",
            "_________________________________________________________________\n",
            "conv2d_10 (Conv2D)           (None, 21, 21, 64)        18496     \n",
            "_________________________________________________________________\n",
            "max_pooling2d_7 (MaxPooling2 (None, 10, 10, 64)        0         \n",
            "_________________________________________________________________\n",
            "conv2d_11 (Conv2D)           (None, 8, 8, 64)          36928     \n",
            "_________________________________________________________________\n",
            "flatten_3 (Flatten)          (None, 4096)              0         \n",
            "_________________________________________________________________\n",
            "dense_6 (Dense)              (None, 64)                262208    \n",
            "_________________________________________________________________\n",
            "dense_7 (Dense)              (None, 2)                 130       \n",
            "=================================================================\n",
            "Total params: 318,082\n",
            "Trainable params: 318,082\n",
            "Non-trainable params: 0\n",
            "_________________________________________________________________\n"
          ]
        }
      ]
    },
    {
      "cell_type": "markdown",
      "metadata": {
        "id": "o6zb2Ufh_mDq"
      },
      "source": [
        "# Train"
      ]
    },
    {
      "cell_type": "code",
      "metadata": {
        "colab": {
          "base_uri": "https://localhost:8080/"
        },
        "id": "Rt_QA2YwoSov",
        "outputId": "e404d273-bd23-49da-d11b-b045ec96c36b"
      },
      "source": [
        "import tensorflow as tf\n",
        "from tensorflow.keras.callbacks import EarlyStopping\n",
        "\n",
        "EPOCHS = 50\n",
        "BATCH_SIZE = 64\n",
        "\n",
        "callbacks = EarlyStopping(monitor='val_loss', patience=5, verbose=1, mode='min')\n",
        "\n",
        "history = model.fit(train_images, train_labels,\n",
        "                    validation_data=(val_images, val_labels),\n",
        "                    class_weight = class_weight,\n",
        "                    epochs=EPOCHS,\n",
        "                    batch_size=BATCH_SIZE,\n",
        "                    callbacks=[callbacks])"
      ],
      "execution_count": 29,
      "outputs": [
        {
          "output_type": "stream",
          "name": "stdout",
          "text": [
            "Epoch 1/50\n",
            "189/189 [==============================] - 2s 7ms/step - loss: 0.3143 - accuracy: 0.6012 - val_loss: 0.6591 - val_accuracy: 0.6001\n",
            "Epoch 2/50\n",
            "189/189 [==============================] - 1s 5ms/step - loss: 0.2793 - accuracy: 0.6633 - val_loss: 0.5932 - val_accuracy: 0.6626\n",
            "Epoch 3/50\n",
            "189/189 [==============================] - 1s 5ms/step - loss: 0.2572 - accuracy: 0.7128 - val_loss: 0.5276 - val_accuracy: 0.7223\n",
            "Epoch 4/50\n",
            "189/189 [==============================] - 1s 5ms/step - loss: 0.2475 - accuracy: 0.7286 - val_loss: 0.5235 - val_accuracy: 0.7196\n",
            "Epoch 5/50\n",
            "189/189 [==============================] - 1s 5ms/step - loss: 0.2377 - accuracy: 0.7398 - val_loss: 0.4947 - val_accuracy: 0.7352\n",
            "Epoch 6/50\n",
            "189/189 [==============================] - 1s 5ms/step - loss: 0.2277 - accuracy: 0.7568 - val_loss: 0.4775 - val_accuracy: 0.7475\n",
            "Epoch 7/50\n",
            "189/189 [==============================] - 1s 5ms/step - loss: 0.2193 - accuracy: 0.7708 - val_loss: 0.4561 - val_accuracy: 0.7733\n",
            "Epoch 8/50\n",
            "189/189 [==============================] - 1s 5ms/step - loss: 0.2103 - accuracy: 0.7815 - val_loss: 0.4407 - val_accuracy: 0.7841\n",
            "Epoch 9/50\n",
            "189/189 [==============================] - 1s 5ms/step - loss: 0.2011 - accuracy: 0.7924 - val_loss: 0.4269 - val_accuracy: 0.7984\n",
            "Epoch 10/50\n",
            "189/189 [==============================] - 1s 5ms/step - loss: 0.1959 - accuracy: 0.7995 - val_loss: 0.4128 - val_accuracy: 0.7990\n",
            "Epoch 11/50\n",
            "189/189 [==============================] - 1s 5ms/step - loss: 0.1893 - accuracy: 0.8109 - val_loss: 0.4129 - val_accuracy: 0.7902\n",
            "Epoch 12/50\n",
            "189/189 [==============================] - 1s 5ms/step - loss: 0.1823 - accuracy: 0.8176 - val_loss: 0.4084 - val_accuracy: 0.8011\n",
            "Epoch 13/50\n",
            "189/189 [==============================] - 1s 5ms/step - loss: 0.1782 - accuracy: 0.8244 - val_loss: 0.4301 - val_accuracy: 0.7753\n",
            "Epoch 14/50\n",
            "189/189 [==============================] - 1s 5ms/step - loss: 0.1725 - accuracy: 0.8329 - val_loss: 0.3965 - val_accuracy: 0.8045\n",
            "Epoch 15/50\n",
            "189/189 [==============================] - 1s 5ms/step - loss: 0.1680 - accuracy: 0.8359 - val_loss: 0.3966 - val_accuracy: 0.8031\n",
            "Epoch 16/50\n",
            "189/189 [==============================] - 1s 5ms/step - loss: 0.1623 - accuracy: 0.8444 - val_loss: 0.3784 - val_accuracy: 0.8248\n",
            "Epoch 17/50\n",
            "189/189 [==============================] - 1s 5ms/step - loss: 0.1597 - accuracy: 0.8476 - val_loss: 0.3691 - val_accuracy: 0.8296\n",
            "Epoch 18/50\n",
            "189/189 [==============================] - 1s 5ms/step - loss: 0.1555 - accuracy: 0.8516 - val_loss: 0.3604 - val_accuracy: 0.8357\n",
            "Epoch 19/50\n",
            "189/189 [==============================] - 1s 5ms/step - loss: 0.1508 - accuracy: 0.8556 - val_loss: 0.3865 - val_accuracy: 0.8092\n",
            "Epoch 20/50\n",
            "189/189 [==============================] - 1s 5ms/step - loss: 0.1469 - accuracy: 0.8602 - val_loss: 0.3485 - val_accuracy: 0.8425\n",
            "Epoch 21/50\n",
            "189/189 [==============================] - 1s 6ms/step - loss: 0.1425 - accuracy: 0.8657 - val_loss: 0.3709 - val_accuracy: 0.8337\n",
            "Epoch 22/50\n",
            "189/189 [==============================] - 1s 5ms/step - loss: 0.1390 - accuracy: 0.8715 - val_loss: 0.3508 - val_accuracy: 0.8377\n",
            "Epoch 23/50\n",
            "189/189 [==============================] - 1s 5ms/step - loss: 0.1355 - accuracy: 0.8746 - val_loss: 0.3697 - val_accuracy: 0.8310\n",
            "Epoch 24/50\n",
            "189/189 [==============================] - 1s 5ms/step - loss: 0.1334 - accuracy: 0.8772 - val_loss: 0.3484 - val_accuracy: 0.8439\n",
            "Epoch 25/50\n",
            "189/189 [==============================] - 1s 5ms/step - loss: 0.1276 - accuracy: 0.8835 - val_loss: 0.3593 - val_accuracy: 0.8405\n",
            "Epoch 26/50\n",
            "189/189 [==============================] - 1s 5ms/step - loss: 0.1261 - accuracy: 0.8862 - val_loss: 0.3455 - val_accuracy: 0.8391\n",
            "Epoch 27/50\n",
            "189/189 [==============================] - 1s 5ms/step - loss: 0.1226 - accuracy: 0.8909 - val_loss: 0.3505 - val_accuracy: 0.8452\n",
            "Epoch 28/50\n",
            "189/189 [==============================] - 1s 5ms/step - loss: 0.1191 - accuracy: 0.8976 - val_loss: 0.3721 - val_accuracy: 0.8371\n",
            "Epoch 29/50\n",
            "189/189 [==============================] - 1s 6ms/step - loss: 0.1165 - accuracy: 0.8991 - val_loss: 0.3573 - val_accuracy: 0.8377\n",
            "Epoch 30/50\n",
            "189/189 [==============================] - 1s 5ms/step - loss: 0.1121 - accuracy: 0.9028 - val_loss: 0.3663 - val_accuracy: 0.8411\n",
            "Epoch 31/50\n",
            "189/189 [==============================] - 1s 5ms/step - loss: 0.1088 - accuracy: 0.9050 - val_loss: 0.3630 - val_accuracy: 0.8452\n",
            "Epoch 00031: early stopping\n"
          ]
        }
      ]
    },
    {
      "cell_type": "code",
      "metadata": {
        "colab": {
          "base_uri": "https://localhost:8080/",
          "height": 295
        },
        "id": "HRI3hO8q7cVT",
        "outputId": "c4259a9e-413a-4060-dd5f-fb5bf3c3c02d"
      },
      "source": [
        "loss = history.history['loss']\n",
        "loss_val = history.history['val_loss']\n",
        "epochs = range(1, len(loss)+1)\n",
        "plt.plot(epochs, loss, 'bo', label='loss_train')\n",
        "plt.plot(epochs, loss_val, 'b', label='loss_val')\n",
        "plt.title('value of the loss function')\n",
        "plt.xlabel('epochs')\n",
        "plt.ylabel('value of the loss function')\n",
        "plt.legend()\n",
        "plt.grid()\n",
        "plt.show()"
      ],
      "execution_count": 30,
      "outputs": [
        {
          "output_type": "display_data",
          "data": {
            "image/png": "[encoded data removed]",
            "text/plain": [
              "<Figure size 432x288 with 1 Axes>"
            ]
          },
          "metadata": {
            "needs_background": "light"
          }
        }
      ]
    },
    {
      "cell_type": "code",
      "metadata": {
        "id": "Xmh3QLnP-Q16"
      },
      "source": [
        "path = '/content/ckpt_2_expressions.hdf5'\n",
        "model.save(path)"
      ],
      "execution_count": 33,
      "outputs": []
    },
    {
      "cell_type": "code",
      "metadata": {
        "colab": {
          "base_uri": "https://localhost:8080/"
        },
        "id": "qT4pdE7WoNlb",
        "outputId": "912c4833-dedd-4a17-8d9c-ee2bc39574a6"
      },
      "source": [
        "model.load_weights(path)\n",
        "test_loss, test_acc = model.evaluate(test_images, test_labels)\n",
        "print('Test Accuracy:', test_acc)"
      ],
      "execution_count": 35,
      "outputs": [
        {
          "output_type": "stream",
          "name": "stdout",
          "text": [
            "49/49 [==============================] - 0s 3ms/step - loss: 0.3602 - accuracy: 0.8488\n",
            "Test Accuracy: 0.8488371968269348\n"
          ]
        }
      ]
    },
    {
      "cell_type": "markdown",
      "metadata": {
        "id": "wm6Ntz-V_h4z"
      },
      "source": [
        "# Random prediction"
      ]
    },
    {
      "cell_type": "code",
      "metadata": {
        "colab": {
          "base_uri": "https://localhost:8080/",
          "height": 319
        },
        "id": "HNswophTM-F5",
        "outputId": "789d8bdd-1e64-4365-9b0e-94ff47b47b09"
      },
      "source": [
        "# Get random image in test dataset\n",
        "rand = random.choice(range(len(test_images)))\n",
        "\n",
        "image = test_images[rand]\n",
        "\n",
        "plt.imshow(image.reshape(48,48), cmap=plt.get_cmap('gray'))\n",
        "plt.show()\n",
        "\n",
        "# Feature scaling\n",
        "image = np.expand_dims(image,axis=0)\n",
        "\n",
        "# Prediction\n",
        "predict = model.predict(image)[0]\n",
        "print(\"Output: \", predict)\n",
        "print(\"Model predict: \", selected_emotions[np.argmax(predict)])\n",
        "print(\"True answer: \", selected_emotions[np.argmax(test_labels[rand])])"
      ],
      "execution_count": 38,
      "outputs": [
        {
          "output_type": "display_data",
          "data": {
            "image/png": "[encoded data removed]",
            "text/plain": [
              "<Figure size 432x288 with 1 Axes>"
            ]
          },
          "metadata": {
            "needs_background": "light"
          }
        },
        {
          "output_type": "stream",
          "name": "stdout",
          "text": [
            "Output:  [0.9570875  0.04291246]\n",
            "Model predict:  Happy\n",
            "True answer:  Happy\n"
          ]
        }
      ]
    },
    {
      "cell_type": "code",
      "metadata": {
        "id": "ZNpv63h5rNam"
      },
      "source": [
        ""
      ],
      "execution_count": 38,
      "outputs": []
    }
  ]
}