{
  "nbformat": 4,
  "nbformat_minor": 0,
  "metadata": {
    "colab": {
      "name": "emotion-classification _3-expressions",
      "provenance": [],
      "collapsed_sections": [
        "xGk7dQjlCx2V"
      ],
      "toc_visible": true
    },
    "kernelspec": {
      "name": "python3",
      "display_name": "Python 3"
    },
    "language_info": {
      "name": "python"
    },
    "accelerator": "GPU"
  },
  "cells": [
    {
      "cell_type": "code",
      "metadata": {
        "id": "FIvvolyDmaD6"
      },
      "source": [
        "import random\n",
        "import os\n",
        "import pandas as pd\n",
        "import numpy as np\n",
        "import matplotlib.pyplot as plt\n",
        "\n",
        "from sklearn.metrics import confusion_matrix\n",
        "from mlxtend.plotting import plot_confusion_matrix\n",
        "\n",
        "import tensorflow as tf\n",
        "from keras import models\n",
        "from keras.layers import Dense, Dropout, Flatten, Conv2D, MaxPool2D\n",
        "from tensorflow.keras.optimizers import RMSprop, Adam\n",
        "from tensorflow.keras.utils import to_categorical"
      ],
      "execution_count": 5,
      "outputs": []
    },
    {
      "cell_type": "markdown",
      "metadata": {
        "id": "xGk7dQjlCx2V"
      },
      "source": [
        "# Data Download \n",
        "Upload kaggle API credentials to runtime"
      ]
    },
    {
      "cell_type": "code",
      "metadata": {
        "id": "tRyP61FjhkIl"
      },
      "source": [
        "# Upload Kaggle credentials to runtime prior to running this block\n",
        "with open('./kaggle.json', 'r') as f:\n",
        "    data = json.load(f)\n",
        "    os.environ['KAGGLE_USERNAME'] = data['username']\n",
        "    os.environ['KAGGLE_KEY'] = data['key']"
      ],
      "execution_count": null,
      "outputs": []
    },
    {
      "cell_type": "code",
      "metadata": {
        "id": "HkfEbfZHiYl3"
      },
      "source": [
        "data_dir = \"/content/drive/MyDrive/assets/data/Fer2013\"\n",
        "if not os.path.exists(data_dir):\n",
        "    os.makedirs(data_dir)"
      ],
      "execution_count": null,
      "outputs": []
    },
    {
      "cell_type": "code",
      "metadata": {
        "colab": {
          "base_uri": "https://localhost:8080/"
        },
        "id": "ooFsKpxoitbJ",
        "outputId": "5a9314f4-51a5-4760-f75c-31f9d965072e"
      },
      "source": [
        "os.chdir(data_dir)\n",
        "!kaggle competitions download -c challenges-in-representation-learning-facial-expression-recognition-challenge"
      ],
      "execution_count": null,
      "outputs": [
        {
          "output_type": "stream",
          "name": "stdout",
          "text": [
            "Warning: Looks like you're using an outdated API Version, please consider updating (server 1.5.12 / client 1.5.4)\n",
            "Downloading example_submission.csv to /content/drive/MyDrive/assets/data/Fer2013\n",
            "  0% 0.00/7.01k [00:00<?, ?B/s]\n",
            "100% 7.01k/7.01k [00:00<00:00, 1.02MB/s]\n",
            "Downloading fer2013.tar.gz to /content/drive/My Drive/assets/data/Fer2013\n",
            "100% 92.0M/92.0M [00:00<00:00, 101MB/s] \n",
            "\n",
            "Downloading test.csv.zip to /content/drive/My Drive/assets/data/Fer2013\n",
            " 88% 17.0M/19.3M [00:00<00:00, 71.3MB/s]\n",
            "100% 19.3M/19.3M [00:00<00:00, 74.3MB/s]\n",
            "Downloading icml_face_data.csv.zip to /content/drive/My Drive/assets/data/Fer2013\n",
            " 91% 88.0M/96.6M [00:01<00:00, 97.4MB/s]\n",
            "100% 96.6M/96.6M [00:01<00:00, 84.9MB/s]\n",
            "Downloading train.csv.zip to /content/drive/My Drive/assets/data/Fer2013\n",
            " 92% 71.0M/77.3M [00:00<00:00, 74.8MB/s]\n",
            "100% 77.3M/77.3M [00:01<00:00, 78.9MB/s]\n"
          ]
        }
      ]
    },
    {
      "cell_type": "code",
      "metadata": {
        "colab": {
          "base_uri": "https://localhost:8080/"
        },
        "id": "hPmOJE4WDImR",
        "outputId": "efabd602-e5cb-4e92-d12a-0593876e2b7a"
      },
      "source": [
        "!tar -xvf fer2013.tar.gz\n",
        "!unzip test.csv.zip\n",
        "!unzip train.csv.zip\n",
        "!unzip icml_face_data.csv.zip"
      ],
      "execution_count": null,
      "outputs": [
        {
          "output_type": "stream",
          "name": "stdout",
          "text": [
            "fer2013/fer2013.csv\n",
            "fer2013/README\n",
            "fer2013/fer2013.bib\n",
            "fer2013/\n",
            "Archive:  test.csv.zip\n",
            "  inflating: test.csv                \n",
            "Archive:  train.csv.zip\n",
            "  inflating: train.csv               \n",
            "Archive:  icml_face_data.csv.zip\n",
            "  inflating: icml_face_data.csv      \n"
          ]
        }
      ]
    },
    {
      "cell_type": "code",
      "metadata": {
        "id": "NcOgE7DAnPz2"
      },
      "source": [
        "!rm fer2013.tar.gz test.csv.zip train.csv.zip icml_face_data.csv.zip"
      ],
      "execution_count": null,
      "outputs": []
    },
    {
      "cell_type": "code",
      "metadata": {
        "id": "9OABpw9tDtHP"
      },
      "source": [
        "!mv fer2013/fer2013.csv ./"
      ],
      "execution_count": null,
      "outputs": []
    },
    {
      "cell_type": "markdown",
      "metadata": {
        "id": "rQ4nYaNKNKXH"
      },
      "source": [
        "# Dataset"
      ]
    },
    {
      "cell_type": "code",
      "metadata": {
        "colab": {
          "base_uri": "https://localhost:8080/",
          "height": 206
        },
        "id": "r1Orc6BhmtuL",
        "outputId": "6c420361-8f4a-4038-d98a-e2db47442305"
      },
      "source": [
        "# Change data directory (icml_face_data) accoringly\n",
        "data_dir = \"/content/drive/MyDrive/assets/data/Fer2013\"\n",
        "data = pd.read_csv(data_dir + '/icml_face_data.csv')\n",
        "data.head()"
      ],
      "execution_count": 18,
      "outputs": [
        {
          "output_type": "execute_result",
          "data": {
            "text/html": [
              "<div>\n",
              "<style scoped>\n",
              "    .dataframe tbody tr th:only-of-type {\n",
              "        vertical-align: middle;\n",
              "    }\n",
              "\n",
              "    .dataframe tbody tr th {\n",
              "        vertical-align: top;\n",
              "    }\n",
              "\n",
              "    .dataframe thead th {\n",
              "        text-align: right;\n",
              "    }\n",
              "</style>\n",
              "<table border=\"1\" class=\"dataframe\">\n",
              "  <thead>\n",
              "    <tr style=\"text-align: right;\">\n",
              "      <th></th>\n",
              "      <th>emotion</th>\n",
              "      <th>Usage</th>\n",
              "      <th>pixels</th>\n",
              "    </tr>\n",
              "  </thead>\n",
              "  <tbody>\n",
              "    <tr>\n",
              "      <th>0</th>\n",
              "      <td>0</td>\n",
              "      <td>Training</td>\n",
              "      <td>70 80 82 72 58 58 60 63 54 58 60 48 89 115 121...</td>\n",
              "    </tr>\n",
              "    <tr>\n",
              "      <th>1</th>\n",
              "      <td>0</td>\n",
              "      <td>Training</td>\n",
              "      <td>151 150 147 155 148 133 111 140 170 174 182 15...</td>\n",
              "    </tr>\n",
              "    <tr>\n",
              "      <th>2</th>\n",
              "      <td>2</td>\n",
              "      <td>Training</td>\n",
              "      <td>231 212 156 164 174 138 161 173 182 200 106 38...</td>\n",
              "    </tr>\n",
              "    <tr>\n",
              "      <th>3</th>\n",
              "      <td>4</td>\n",
              "      <td>Training</td>\n",
              "      <td>24 32 36 30 32 23 19 20 30 41 21 22 32 34 21 1...</td>\n",
              "    </tr>\n",
              "    <tr>\n",
              "      <th>4</th>\n",
              "      <td>6</td>\n",
              "      <td>Training</td>\n",
              "      <td>4 0 0 0 0 0 0 0 0 0 0 0 3 15 23 28 48 50 58 84...</td>\n",
              "    </tr>\n",
              "  </tbody>\n",
              "</table>\n",
              "</div>"
            ],
            "text/plain": [
              "   emotion     Usage                                             pixels\n",
              "0        0  Training  70 80 82 72 58 58 60 63 54 58 60 48 89 115 121...\n",
              "1        0  Training  151 150 147 155 148 133 111 140 170 174 182 15...\n",
              "2        2  Training  231 212 156 164 174 138 161 173 182 200 106 38...\n",
              "3        4  Training  24 32 36 30 32 23 19 20 30 41 21 22 32 34 21 1...\n",
              "4        6  Training  4 0 0 0 0 0 0 0 0 0 0 0 3 15 23 28 48 50 58 84..."
            ]
          },
          "metadata": {},
          "execution_count": 18
        }
      ]
    },
    {
      "cell_type": "markdown",
      "metadata": {
        "id": "T4COD6SmWyuR"
      },
      "source": [
        "## Filter dataset to 3 classes = [Happy, Sad, Neutral]"
      ]
    },
    {
      "cell_type": "code",
      "metadata": {
        "id": "6CKILehLznIY"
      },
      "source": [
        "# emotions = {0: 'Angry',\n",
        "#             1: 'Disgust',\n",
        "#             2: 'Fear',\n",
        "#             3: 'Happy',\n",
        "#             4: 'Sad',\n",
        "#             5: 'Surprise',\n",
        "#             6: 'Neutral'}\n",
        "\n",
        "# emotions_filtered = {3:'Happy',\n",
        "#                      4:'Sad',\n",
        "#                      6:'Neutral'}\n",
        "\n",
        "\n",
        "convert_emotions = {3: 0,\n",
        "                    4: 1,\n",
        "                    6: 2}\n",
        "\n",
        "selected_classes = list(convert_emotions.keys())\n",
        "\n",
        "selected_emotions = {0: 'Happy',\n",
        "                     1: 'Sad',\n",
        "                     2: 'Neutral'}"
      ],
      "execution_count": 19,
      "outputs": []
    },
    {
      "cell_type": "code",
      "metadata": {
        "colab": {
          "base_uri": "https://localhost:8080/",
          "height": 424
        },
        "id": "U03kUzvvzvqH",
        "outputId": "d3567409-ddbe-4635-b889-53d30ff4c72d"
      },
      "source": [
        "data_filtered = pd.DataFrame(columns=['emotion', ' Usage', ' pixels'])\n",
        "for i, row in enumerate(data.index):\n",
        "    if data.loc[row, 'emotion'] in selected_classes:\n",
        "        data_filtered = data_filtered.append(data.iloc[i])\n",
        "data_filtered"
      ],
      "execution_count": 20,
      "outputs": [
        {
          "output_type": "execute_result",
          "data": {
            "text/html": [
              "<div>\n",
              "<style scoped>\n",
              "    .dataframe tbody tr th:only-of-type {\n",
              "        vertical-align: middle;\n",
              "    }\n",
              "\n",
              "    .dataframe tbody tr th {\n",
              "        vertical-align: top;\n",
              "    }\n",
              "\n",
              "    .dataframe thead th {\n",
              "        text-align: right;\n",
              "    }\n",
              "</style>\n",
              "<table border=\"1\" class=\"dataframe\">\n",
              "  <thead>\n",
              "    <tr style=\"text-align: right;\">\n",
              "      <th></th>\n",
              "      <th>emotion</th>\n",
              "      <th>Usage</th>\n",
              "      <th>pixels</th>\n",
              "    </tr>\n",
              "  </thead>\n",
              "  <tbody>\n",
              "    <tr>\n",
              "      <th>3</th>\n",
              "      <td>4</td>\n",
              "      <td>Training</td>\n",
              "      <td>24 32 36 30 32 23 19 20 30 41 21 22 32 34 21 1...</td>\n",
              "    </tr>\n",
              "    <tr>\n",
              "      <th>4</th>\n",
              "      <td>6</td>\n",
              "      <td>Training</td>\n",
              "      <td>4 0 0 0 0 0 0 0 0 0 0 0 3 15 23 28 48 50 58 84...</td>\n",
              "    </tr>\n",
              "    <tr>\n",
              "      <th>6</th>\n",
              "      <td>4</td>\n",
              "      <td>Training</td>\n",
              "      <td>20 17 19 21 25 38 42 42 46 54 56 62 63 66 82 1...</td>\n",
              "    </tr>\n",
              "    <tr>\n",
              "      <th>7</th>\n",
              "      <td>3</td>\n",
              "      <td>Training</td>\n",
              "      <td>77 78 79 79 78 75 60 55 47 48 58 73 77 79 57 5...</td>\n",
              "    </tr>\n",
              "    <tr>\n",
              "      <th>8</th>\n",
              "      <td>3</td>\n",
              "      <td>Training</td>\n",
              "      <td>85 84 90 121 101 102 133 153 153 169 177 189 1...</td>\n",
              "    </tr>\n",
              "    <tr>\n",
              "      <th>...</th>\n",
              "      <td>...</td>\n",
              "      <td>...</td>\n",
              "      <td>...</td>\n",
              "    </tr>\n",
              "    <tr>\n",
              "      <th>35877</th>\n",
              "      <td>6</td>\n",
              "      <td>PrivateTest</td>\n",
              "      <td>139 143 145 154 159 168 176 181 190 191 195 19...</td>\n",
              "    </tr>\n",
              "    <tr>\n",
              "      <th>35878</th>\n",
              "      <td>3</td>\n",
              "      <td>PrivateTest</td>\n",
              "      <td>0 39 81 80 104 97 51 64 68 46 41 67 53 68 70 5...</td>\n",
              "    </tr>\n",
              "    <tr>\n",
              "      <th>35882</th>\n",
              "      <td>6</td>\n",
              "      <td>PrivateTest</td>\n",
              "      <td>50 36 17 22 23 29 33 39 34 37 37 37 39 43 48 5...</td>\n",
              "    </tr>\n",
              "    <tr>\n",
              "      <th>35883</th>\n",
              "      <td>3</td>\n",
              "      <td>PrivateTest</td>\n",
              "      <td>178 174 172 173 181 188 191 194 196 199 200 20...</td>\n",
              "    </tr>\n",
              "    <tr>\n",
              "      <th>35885</th>\n",
              "      <td>3</td>\n",
              "      <td>PrivateTest</td>\n",
              "      <td>30 28 28 29 31 30 42 68 79 81 77 67 67 71 63 6...</td>\n",
              "    </tr>\n",
              "  </tbody>\n",
              "</table>\n",
              "<p>21264 rows × 3 columns</p>\n",
              "</div>"
            ],
            "text/plain": [
              "      emotion        Usage                                             pixels\n",
              "3           4     Training  24 32 36 30 32 23 19 20 30 41 21 22 32 34 21 1...\n",
              "4           6     Training  4 0 0 0 0 0 0 0 0 0 0 0 3 15 23 28 48 50 58 84...\n",
              "6           4     Training  20 17 19 21 25 38 42 42 46 54 56 62 63 66 82 1...\n",
              "7           3     Training  77 78 79 79 78 75 60 55 47 48 58 73 77 79 57 5...\n",
              "8           3     Training  85 84 90 121 101 102 133 153 153 169 177 189 1...\n",
              "...       ...          ...                                                ...\n",
              "35877       6  PrivateTest  139 143 145 154 159 168 176 181 190 191 195 19...\n",
              "35878       3  PrivateTest  0 39 81 80 104 97 51 64 68 46 41 67 53 68 70 5...\n",
              "35882       6  PrivateTest  50 36 17 22 23 29 33 39 34 37 37 37 39 43 48 5...\n",
              "35883       3  PrivateTest  178 174 172 173 181 188 191 194 196 199 200 20...\n",
              "35885       3  PrivateTest  30 28 28 29 31 30 42 68 79 81 77 67 67 71 63 6...\n",
              "\n",
              "[21264 rows x 3 columns]"
            ]
          },
          "metadata": {},
          "execution_count": 20
        }
      ]
    },
    {
      "cell_type": "code",
      "metadata": {
        "colab": {
          "base_uri": "https://localhost:8080/",
          "height": 424
        },
        "id": "gjQKYafq17yZ",
        "outputId": "09aa88cd-dd6b-4477-ed44-41b26961ff91"
      },
      "source": [
        "data_filtered.reset_index(inplace=True)\n",
        "data_filtered.drop(['index'], axis=1, inplace=True)\n",
        "data_filtered"
      ],
      "execution_count": 21,
      "outputs": [
        {
          "output_type": "execute_result",
          "data": {
            "text/html": [
              "<div>\n",
              "<style scoped>\n",
              "    .dataframe tbody tr th:only-of-type {\n",
              "        vertical-align: middle;\n",
              "    }\n",
              "\n",
              "    .dataframe tbody tr th {\n",
              "        vertical-align: top;\n",
              "    }\n",
              "\n",
              "    .dataframe thead th {\n",
              "        text-align: right;\n",
              "    }\n",
              "</style>\n",
              "<table border=\"1\" class=\"dataframe\">\n",
              "  <thead>\n",
              "    <tr style=\"text-align: right;\">\n",
              "      <th></th>\n",
              "      <th>emotion</th>\n",
              "      <th>Usage</th>\n",
              "      <th>pixels</th>\n",
              "    </tr>\n",
              "  </thead>\n",
              "  <tbody>\n",
              "    <tr>\n",
              "      <th>0</th>\n",
              "      <td>4</td>\n",
              "      <td>Training</td>\n",
              "      <td>24 32 36 30 32 23 19 20 30 41 21 22 32 34 21 1...</td>\n",
              "    </tr>\n",
              "    <tr>\n",
              "      <th>1</th>\n",
              "      <td>6</td>\n",
              "      <td>Training</td>\n",
              "      <td>4 0 0 0 0 0 0 0 0 0 0 0 3 15 23 28 48 50 58 84...</td>\n",
              "    </tr>\n",
              "    <tr>\n",
              "      <th>2</th>\n",
              "      <td>4</td>\n",
              "      <td>Training</td>\n",
              "      <td>20 17 19 21 25 38 42 42 46 54 56 62 63 66 82 1...</td>\n",
              "    </tr>\n",
              "    <tr>\n",
              "      <th>3</th>\n",
              "      <td>3</td>\n",
              "      <td>Training</td>\n",
              "      <td>77 78 79 79 78 75 60 55 47 48 58 73 77 79 57 5...</td>\n",
              "    </tr>\n",
              "    <tr>\n",
              "      <th>4</th>\n",
              "      <td>3</td>\n",
              "      <td>Training</td>\n",
              "      <td>85 84 90 121 101 102 133 153 153 169 177 189 1...</td>\n",
              "    </tr>\n",
              "    <tr>\n",
              "      <th>...</th>\n",
              "      <td>...</td>\n",
              "      <td>...</td>\n",
              "      <td>...</td>\n",
              "    </tr>\n",
              "    <tr>\n",
              "      <th>21259</th>\n",
              "      <td>6</td>\n",
              "      <td>PrivateTest</td>\n",
              "      <td>139 143 145 154 159 168 176 181 190 191 195 19...</td>\n",
              "    </tr>\n",
              "    <tr>\n",
              "      <th>21260</th>\n",
              "      <td>3</td>\n",
              "      <td>PrivateTest</td>\n",
              "      <td>0 39 81 80 104 97 51 64 68 46 41 67 53 68 70 5...</td>\n",
              "    </tr>\n",
              "    <tr>\n",
              "      <th>21261</th>\n",
              "      <td>6</td>\n",
              "      <td>PrivateTest</td>\n",
              "      <td>50 36 17 22 23 29 33 39 34 37 37 37 39 43 48 5...</td>\n",
              "    </tr>\n",
              "    <tr>\n",
              "      <th>21262</th>\n",
              "      <td>3</td>\n",
              "      <td>PrivateTest</td>\n",
              "      <td>178 174 172 173 181 188 191 194 196 199 200 20...</td>\n",
              "    </tr>\n",
              "    <tr>\n",
              "      <th>21263</th>\n",
              "      <td>3</td>\n",
              "      <td>PrivateTest</td>\n",
              "      <td>30 28 28 29 31 30 42 68 79 81 77 67 67 71 63 6...</td>\n",
              "    </tr>\n",
              "  </tbody>\n",
              "</table>\n",
              "<p>21264 rows × 3 columns</p>\n",
              "</div>"
            ],
            "text/plain": [
              "      emotion        Usage                                             pixels\n",
              "0           4     Training  24 32 36 30 32 23 19 20 30 41 21 22 32 34 21 1...\n",
              "1           6     Training  4 0 0 0 0 0 0 0 0 0 0 0 3 15 23 28 48 50 58 84...\n",
              "2           4     Training  20 17 19 21 25 38 42 42 46 54 56 62 63 66 82 1...\n",
              "3           3     Training  77 78 79 79 78 75 60 55 47 48 58 73 77 79 57 5...\n",
              "4           3     Training  85 84 90 121 101 102 133 153 153 169 177 189 1...\n",
              "...       ...          ...                                                ...\n",
              "21259       6  PrivateTest  139 143 145 154 159 168 176 181 190 191 195 19...\n",
              "21260       3  PrivateTest  0 39 81 80 104 97 51 64 68 46 41 67 53 68 70 5...\n",
              "21261       6  PrivateTest  50 36 17 22 23 29 33 39 34 37 37 37 39 43 48 5...\n",
              "21262       3  PrivateTest  178 174 172 173 181 188 191 194 196 199 200 20...\n",
              "21263       3  PrivateTest  30 28 28 29 31 30 42 68 79 81 77 67 67 71 63 6...\n",
              "\n",
              "[21264 rows x 3 columns]"
            ]
          },
          "metadata": {},
          "execution_count": 21
        }
      ]
    },
    {
      "cell_type": "code",
      "metadata": {
        "colab": {
          "base_uri": "https://localhost:8080/",
          "height": 424
        },
        "collapsed": true,
        "id": "_uvv-77Z0lAx",
        "outputId": "179d5622-3477-4f34-e6ad-f9a76bfb51f3"
      },
      "source": [
        "import copy\n",
        "\n",
        "new_data = copy.deepcopy(data_filtered)\n",
        "for i in range(len(new_data)):\n",
        "    new_data.emotion[i] = convert_emotions[new_data.emotion[i]]\n",
        "\n",
        "new_data"
      ],
      "execution_count": 22,
      "outputs": [
        {
          "output_type": "execute_result",
          "data": {
            "text/html": [
              "<div>\n",
              "<style scoped>\n",
              "    .dataframe tbody tr th:only-of-type {\n",
              "        vertical-align: middle;\n",
              "    }\n",
              "\n",
              "    .dataframe tbody tr th {\n",
              "        vertical-align: top;\n",
              "    }\n",
              "\n",
              "    .dataframe thead th {\n",
              "        text-align: right;\n",
              "    }\n",
              "</style>\n",
              "<table border=\"1\" class=\"dataframe\">\n",
              "  <thead>\n",
              "    <tr style=\"text-align: right;\">\n",
              "      <th></th>\n",
              "      <th>emotion</th>\n",
              "      <th>Usage</th>\n",
              "      <th>pixels</th>\n",
              "    </tr>\n",
              "  </thead>\n",
              "  <tbody>\n",
              "    <tr>\n",
              "      <th>0</th>\n",
              "      <td>1</td>\n",
              "      <td>Training</td>\n",
              "      <td>24 32 36 30 32 23 19 20 30 41 21 22 32 34 21 1...</td>\n",
              "    </tr>\n",
              "    <tr>\n",
              "      <th>1</th>\n",
              "      <td>2</td>\n",
              "      <td>Training</td>\n",
              "      <td>4 0 0 0 0 0 0 0 0 0 0 0 3 15 23 28 48 50 58 84...</td>\n",
              "    </tr>\n",
              "    <tr>\n",
              "      <th>2</th>\n",
              "      <td>1</td>\n",
              "      <td>Training</td>\n",
              "      <td>20 17 19 21 25 38 42 42 46 54 56 62 63 66 82 1...</td>\n",
              "    </tr>\n",
              "    <tr>\n",
              "      <th>3</th>\n",
              "      <td>0</td>\n",
              "      <td>Training</td>\n",
              "      <td>77 78 79 79 78 75 60 55 47 48 58 73 77 79 57 5...</td>\n",
              "    </tr>\n",
              "    <tr>\n",
              "      <th>4</th>\n",
              "      <td>0</td>\n",
              "      <td>Training</td>\n",
              "      <td>85 84 90 121 101 102 133 153 153 169 177 189 1...</td>\n",
              "    </tr>\n",
              "    <tr>\n",
              "      <th>...</th>\n",
              "      <td>...</td>\n",
              "      <td>...</td>\n",
              "      <td>...</td>\n",
              "    </tr>\n",
              "    <tr>\n",
              "      <th>21259</th>\n",
              "      <td>2</td>\n",
              "      <td>PrivateTest</td>\n",
              "      <td>139 143 145 154 159 168 176 181 190 191 195 19...</td>\n",
              "    </tr>\n",
              "    <tr>\n",
              "      <th>21260</th>\n",
              "      <td>0</td>\n",
              "      <td>PrivateTest</td>\n",
              "      <td>0 39 81 80 104 97 51 64 68 46 41 67 53 68 70 5...</td>\n",
              "    </tr>\n",
              "    <tr>\n",
              "      <th>21261</th>\n",
              "      <td>2</td>\n",
              "      <td>PrivateTest</td>\n",
              "      <td>50 36 17 22 23 29 33 39 34 37 37 37 39 43 48 5...</td>\n",
              "    </tr>\n",
              "    <tr>\n",
              "      <th>21262</th>\n",
              "      <td>0</td>\n",
              "      <td>PrivateTest</td>\n",
              "      <td>178 174 172 173 181 188 191 194 196 199 200 20...</td>\n",
              "    </tr>\n",
              "    <tr>\n",
              "      <th>21263</th>\n",
              "      <td>0</td>\n",
              "      <td>PrivateTest</td>\n",
              "      <td>30 28 28 29 31 30 42 68 79 81 77 67 67 71 63 6...</td>\n",
              "    </tr>\n",
              "  </tbody>\n",
              "</table>\n",
              "<p>21264 rows × 3 columns</p>\n",
              "</div>"
            ],
            "text/plain": [
              "      emotion        Usage                                             pixels\n",
              "0           1     Training  24 32 36 30 32 23 19 20 30 41 21 22 32 34 21 1...\n",
              "1           2     Training  4 0 0 0 0 0 0 0 0 0 0 0 3 15 23 28 48 50 58 84...\n",
              "2           1     Training  20 17 19 21 25 38 42 42 46 54 56 62 63 66 82 1...\n",
              "3           0     Training  77 78 79 79 78 75 60 55 47 48 58 73 77 79 57 5...\n",
              "4           0     Training  85 84 90 121 101 102 133 153 153 169 177 189 1...\n",
              "...       ...          ...                                                ...\n",
              "21259       2  PrivateTest  139 143 145 154 159 168 176 181 190 191 195 19...\n",
              "21260       0  PrivateTest  0 39 81 80 104 97 51 64 68 46 41 67 53 68 70 5...\n",
              "21261       2  PrivateTest  50 36 17 22 23 29 33 39 34 37 37 37 39 43 48 5...\n",
              "21262       0  PrivateTest  178 174 172 173 181 188 191 194 196 199 200 20...\n",
              "21263       0  PrivateTest  30 28 28 29 31 30 42 68 79 81 77 67 67 71 63 6...\n",
              "\n",
              "[21264 rows x 3 columns]"
            ]
          },
          "metadata": {},
          "execution_count": 22
        }
      ]
    },
    {
      "cell_type": "markdown",
      "metadata": {
        "id": "ep4ftRElXFom"
      },
      "source": [
        "## Data Preparation"
      ]
    },
    {
      "cell_type": "code",
      "metadata": {
        "id": "ZAf2Ng-Xnc6f"
      },
      "source": [
        "def prepare_data(data):\n",
        "    \"\"\" Prepare data for modeling \n",
        "        input: data frame with labels und pixel data\n",
        "        output: image and label array \"\"\"\n",
        "    \n",
        "    image_array = np.zeros(shape=(len(data), 48, 48))\n",
        "    image_label = np.array(list(map(int, data['emotion'])))\n",
        "    \n",
        "    for i, row in enumerate(data.index):\n",
        "        image = np.fromstring(data.loc[row, ' pixels'], dtype=int, sep=' ')\n",
        "        image = np.reshape(image, (48, 48))\n",
        "        image_array[i] = image\n",
        "        \n",
        "    return image_array, image_label\n",
        "\n",
        "def plot_examples(label=0):\n",
        "    fig, axs = plt.subplots(1, 5, figsize=(12, 7))\n",
        "    fig.subplots_adjust(hspace = .2, wspace=.2)\n",
        "    axs = axs.ravel()\n",
        "    for i in range(5):\n",
        "        idx = data[data['emotion']==label].index[i]\n",
        "        axs[i].imshow(train_images[idx][:,:,0], cmap='gray')\n",
        "        axs[i].set_title(selected_emotions[train_labels[idx].argmax()])\n",
        "        axs[i].set_xticklabels([])\n",
        "        axs[i].set_yticklabels([])\n",
        "        \n",
        "def plot_all_emotions():\n",
        "    num_classes = len(new_data['emotion'].value_counts())\n",
        "    fig, axs = plt.subplots(1, num_classes, figsize=(15, 6))\n",
        "    fig.subplots_adjust(hspace = .2, wspace=.2)\n",
        "    axs = axs.ravel()\n",
        "    for i in range(num_classes):\n",
        "        idx = new_data[new_data['emotion']==i].index[i]\n",
        "        axs[i].imshow(train_images[idx][:,:,0], cmap='gray')\n",
        "        axs[i].set_title(selected_emotions[train_labels[idx].argmax()])\n",
        "        axs[i].set_xticklabels([])\n",
        "        axs[i].set_yticklabels([])\n",
        "        \n",
        "def plot_compare_distributions(array1, array2, title1='', title2=''):\n",
        "    df_array1 = pd.DataFrame()\n",
        "    df_array2 = pd.DataFrame()\n",
        "    df_array1['emotion'] = array1.argmax(axis=1)\n",
        "    df_array2['emotion'] = array2.argmax(axis=1)\n",
        "    \n",
        "    fig, axs = plt.subplots(1, 2, figsize=(12, 6), sharey=False)\n",
        "    x = selected_emotions.values()\n",
        "    \n",
        "    y = df_array1['emotion'].value_counts()\n",
        "    keys_missed = list(set(selected_emotions.keys()).difference(set(y.keys())))\n",
        "    for key_missed in keys_missed:\n",
        "        y[key_missed] = 0\n",
        "    axs[0].bar(x, y.sort_index(), color='orange')\n",
        "    axs[0].set_title(title1)\n",
        "    axs[0].grid()\n",
        "    \n",
        "    y = df_array2['emotion'].value_counts()\n",
        "    keys_missed = list(set(selected_emotions.keys()).difference(set(y.keys())))\n",
        "    for key_missed in keys_missed:\n",
        "        y[key_missed] = 0\n",
        "    axs[1].bar(x, y.sort_index())\n",
        "    axs[1].set_title(title2)\n",
        "    axs[1].grid()\n",
        "    \n",
        "    plt.show()"
      ],
      "execution_count": 51,
      "outputs": []
    },
    {
      "cell_type": "code",
      "metadata": {
        "colab": {
          "base_uri": "https://localhost:8080/"
        },
        "id": "SsgYUsTRnofa",
        "outputId": "19142835-72ca-4c17-8326-b6307c07548b"
      },
      "source": [
        "new_data[' Usage'].value_counts()"
      ],
      "execution_count": 24,
      "outputs": [
        {
          "output_type": "execute_result",
          "data": {
            "text/plain": [
              "Training       17010\n",
              "PublicTest      2155\n",
              "PrivateTest     2099\n",
              "Name:  Usage, dtype: int64"
            ]
          },
          "metadata": {},
          "execution_count": 24
        }
      ]
    },
    {
      "cell_type": "code",
      "metadata": {
        "id": "_YdpJDMhnx-l"
      },
      "source": [
        "train_image_array, train_image_label = prepare_data(new_data[new_data[' Usage']=='Training'])\n",
        "val_image_array, val_image_label = prepare_data(new_data[new_data[' Usage']=='PrivateTest'])\n",
        "test_image_array, test_image_label = prepare_data(new_data[new_data[' Usage']=='PublicTest'])"
      ],
      "execution_count": 26,
      "outputs": []
    },
    {
      "cell_type": "code",
      "metadata": {
        "id": "SekD-q9vnzzg"
      },
      "source": [
        "train_images = train_image_array.reshape((train_image_array.shape[0], 48, 48, 1))\n",
        "train_images = train_images.astype('float32')/255\n",
        "val_images = val_image_array.reshape((val_image_array.shape[0], 48, 48, 1))\n",
        "val_images = val_images.astype('float32')/255\n",
        "test_images = test_image_array.reshape((test_image_array.shape[0], 48, 48, 1))\n",
        "test_images = test_images.astype('float32')/255"
      ],
      "execution_count": 27,
      "outputs": []
    },
    {
      "cell_type": "code",
      "metadata": {
        "id": "FBX8DNOgn3Ff"
      },
      "source": [
        "train_labels = to_categorical(train_image_label)\n",
        "val_labels = to_categorical(val_image_label)\n",
        "test_labels = to_categorical(test_image_label)"
      ],
      "execution_count": 28,
      "outputs": []
    },
    {
      "cell_type": "code",
      "metadata": {
        "colab": {
          "base_uri": "https://localhost:8080/",
          "height": 166
        },
        "id": "IswgpBiy58aN",
        "outputId": "db269c4c-245b-492b-cdfd-17ffa5601fde"
      },
      "source": [
        "plot_examples()"
      ],
      "execution_count": 43,
      "outputs": [
        {
          "output_type": "display_data",
          "data": {
            "image/png": "[encoded data removed]",
            "text/plain": [
              "<Figure size 864x504 with 5 Axes>"
            ]
          },
          "metadata": {
            "needs_background": "light"
          }
        }
      ]
    },
    {
      "cell_type": "code",
      "metadata": {
        "colab": {
          "base_uri": "https://localhost:8080/",
          "height": 297
        },
        "id": "ZaplJ_zO-P6h",
        "outputId": "646c3c8f-a9aa-486c-f505-6976996029c3"
      },
      "source": [
        "plot_all_emotions()"
      ],
      "execution_count": 47,
      "outputs": [
        {
          "output_type": "display_data",
          "data": {
            "image/png": "[encoded data removed]",
            "text/plain": [
              "<Figure size 1080x432 with 3 Axes>"
            ]
          },
          "metadata": {
            "needs_background": "light"
          }
        }
      ]
    },
    {
      "cell_type": "code",
      "metadata": {
        "colab": {
          "base_uri": "https://localhost:8080/",
          "height": 390
        },
        "id": "AAR_isrnn9Wm",
        "outputId": "33e0ab86-7ac8-4a0a-db81-85a4f6f4bfb4"
      },
      "source": [
        "plot_compare_distributions(train_labels, val_labels, title1='Train set labels', title2='Val set labels')"
      ],
      "execution_count": 40,
      "outputs": [
        {
          "output_type": "display_data",
          "data": {
            "image/png": "[encoded data removed]",
            "text/plain": [
              "<Figure size 864x432 with 2 Axes>"
            ]
          },
          "metadata": {
            "needs_background": "light"
          }
        }
      ]
    },
    {
      "cell_type": "code",
      "metadata": {
        "colab": {
          "base_uri": "https://localhost:8080/"
        },
        "id": "-Dr-85-ooC7Q",
        "outputId": "40956768-ce15-4ad8-f75c-432d8aa47046"
      },
      "source": [
        "class_weight = dict(zip(range(0, 3), (((new_data[new_data[' Usage']=='Training']['emotion'].value_counts()).sort_index())/len(new_data[new_data[' Usage']=='Training']['emotion'])).tolist()))\n",
        "class_weight"
      ],
      "execution_count": 30,
      "outputs": [
        {
          "output_type": "execute_result",
          "data": {
            "text/plain": [
              "{0: 0.42416225749559083, 1: 0.2839506172839506, 2: 0.29188712522045857}"
            ]
          },
          "metadata": {},
          "execution_count": 30
        }
      ]
    },
    {
      "cell_type": "markdown",
      "metadata": {
        "id": "x1l7AeipWQHT"
      },
      "source": [
        "# Define Model"
      ]
    },
    {
      "cell_type": "code",
      "metadata": {
        "id": "3U-QHA7ZoJSc"
      },
      "source": [
        "model = models.Sequential()\n",
        "model.add(Conv2D(32, (3, 3), activation='relu', input_shape=(48, 48, 1)))\n",
        "model.add(MaxPool2D((2, 2)))\n",
        "model.add(Conv2D(64, (3, 3), activation='relu'))\n",
        "model.add(MaxPool2D((2, 2)))\n",
        "model.add(Conv2D(64, (3, 3), activation='relu'))\n",
        "model.add(Flatten())\n",
        "model.add(Dense(64, activation='relu'))\n",
        "model.add(Dense(3, activation='softmax'))"
      ],
      "execution_count": 31,
      "outputs": []
    },
    {
      "cell_type": "code",
      "metadata": {
        "colab": {
          "base_uri": "https://localhost:8080/"
        },
        "id": "y0mp0aqeoMAq",
        "outputId": "9bb7b249-742e-4d1e-c727-483aa439d031"
      },
      "source": [
        "model.compile(optimizer=Adam(learning_rate=1e-4), loss='categorical_crossentropy', metrics=['accuracy'])\n",
        "model.summary()"
      ],
      "execution_count": 32,
      "outputs": [
        {
          "output_type": "stream",
          "name": "stdout",
          "text": [
            "Model: \"sequential\"\n",
            "_________________________________________________________________\n",
            "Layer (type)                 Output Shape              Param #   \n",
            "=================================================================\n",
            "conv2d (Conv2D)              (None, 46, 46, 32)        320       \n",
            "_________________________________________________________________\n",
            "max_pooling2d (MaxPooling2D) (None, 23, 23, 32)        0         \n",
            "_________________________________________________________________\n",
            "conv2d_1 (Conv2D)            (None, 21, 21, 64)        18496     \n",
            "_________________________________________________________________\n",
            "max_pooling2d_1 (MaxPooling2 (None, 10, 10, 64)        0         \n",
            "_________________________________________________________________\n",
            "conv2d_2 (Conv2D)            (None, 8, 8, 64)          36928     \n",
            "_________________________________________________________________\n",
            "flatten (Flatten)            (None, 4096)              0         \n",
            "_________________________________________________________________\n",
            "dense (Dense)                (None, 64)                262208    \n",
            "_________________________________________________________________\n",
            "dense_1 (Dense)              (None, 3)                 195       \n",
            "=================================================================\n",
            "Total params: 318,147\n",
            "Trainable params: 318,147\n",
            "Non-trainable params: 0\n",
            "_________________________________________________________________\n"
          ]
        }
      ]
    },
    {
      "cell_type": "markdown",
      "metadata": {
        "id": "o6zb2Ufh_mDq"
      },
      "source": [
        "# Train"
      ]
    },
    {
      "cell_type": "code",
      "metadata": {
        "colab": {
          "base_uri": "https://localhost:8080/"
        },
        "id": "Rt_QA2YwoSov",
        "outputId": "7ac966a6-efca-462c-c8f2-f8569ce41cb9"
      },
      "source": [
        "import tensorflow as tf\n",
        "from tensorflow.keras.callbacks import EarlyStopping\n",
        "\n",
        "EPOCHS = 30\n",
        "BATCH_SIZE = 64\n",
        "\n",
        "callbacks = EarlyStopping(monitor='val_loss', patience=10, verbose=1, mode='min')\n",
        "\n",
        "history = model.fit(train_images, train_labels,\n",
        "                    validation_data=(val_images, val_labels),\n",
        "                    class_weight = class_weight,\n",
        "                    epochs=EPOCHS,\n",
        "                    batch_size=BATCH_SIZE,\n",
        "                    callbacks=[callbacks])"
      ],
      "execution_count": 33,
      "outputs": [
        {
          "output_type": "stream",
          "name": "stdout",
          "text": [
            "Epoch 1/30\n",
            "266/266 [==============================] - 18s 6ms/step - loss: 0.3490 - accuracy: 0.4225 - val_loss: 1.0364 - val_accuracy: 0.4254\n",
            "Epoch 2/30\n",
            "266/266 [==============================] - 1s 5ms/step - loss: 0.3090 - accuracy: 0.5198 - val_loss: 0.8937 - val_accuracy: 0.5846\n",
            "Epoch 3/30\n",
            "266/266 [==============================] - 1s 5ms/step - loss: 0.2892 - accuracy: 0.5764 - val_loss: 0.8546 - val_accuracy: 0.6103\n",
            "Epoch 4/30\n",
            "266/266 [==============================] - 1s 5ms/step - loss: 0.2790 - accuracy: 0.5946 - val_loss: 0.8594 - val_accuracy: 0.5874\n",
            "Epoch 5/30\n",
            "266/266 [==============================] - 1s 5ms/step - loss: 0.2697 - accuracy: 0.6083 - val_loss: 0.8243 - val_accuracy: 0.6117\n",
            "Epoch 6/30\n",
            "266/266 [==============================] - 1s 5ms/step - loss: 0.2603 - accuracy: 0.6270 - val_loss: 0.7799 - val_accuracy: 0.6370\n",
            "Epoch 7/30\n",
            "266/266 [==============================] - 1s 5ms/step - loss: 0.2528 - accuracy: 0.6406 - val_loss: 0.7795 - val_accuracy: 0.6313\n",
            "Epoch 8/30\n",
            "266/266 [==============================] - 1s 5ms/step - loss: 0.2454 - accuracy: 0.6487 - val_loss: 0.7522 - val_accuracy: 0.6551\n",
            "Epoch 9/30\n",
            "266/266 [==============================] - 1s 5ms/step - loss: 0.2389 - accuracy: 0.6578 - val_loss: 0.7374 - val_accuracy: 0.6608\n",
            "Epoch 10/30\n",
            "266/266 [==============================] - 1s 5ms/step - loss: 0.2333 - accuracy: 0.6713 - val_loss: 0.7400 - val_accuracy: 0.6603\n",
            "Epoch 11/30\n",
            "266/266 [==============================] - 1s 5ms/step - loss: 0.2278 - accuracy: 0.6783 - val_loss: 0.7240 - val_accuracy: 0.6613\n",
            "Epoch 12/30\n",
            "266/266 [==============================] - 1s 5ms/step - loss: 0.2229 - accuracy: 0.6862 - val_loss: 0.7035 - val_accuracy: 0.6775\n",
            "Epoch 13/30\n",
            "266/266 [==============================] - 1s 5ms/step - loss: 0.2197 - accuracy: 0.6907 - val_loss: 0.6994 - val_accuracy: 0.6779\n",
            "Epoch 14/30\n",
            "266/266 [==============================] - 1s 5ms/step - loss: 0.2147 - accuracy: 0.7009 - val_loss: 0.6959 - val_accuracy: 0.6884\n",
            "Epoch 15/30\n",
            "266/266 [==============================] - 1s 5ms/step - loss: 0.2110 - accuracy: 0.7055 - val_loss: 0.6870 - val_accuracy: 0.6908\n",
            "Epoch 16/30\n",
            "266/266 [==============================] - 1s 5ms/step - loss: 0.2079 - accuracy: 0.7148 - val_loss: 0.6916 - val_accuracy: 0.6899\n",
            "Epoch 17/30\n",
            "266/266 [==============================] - 1s 5ms/step - loss: 0.2041 - accuracy: 0.7187 - val_loss: 0.6864 - val_accuracy: 0.6956\n",
            "Epoch 18/30\n",
            "266/266 [==============================] - 1s 5ms/step - loss: 0.2011 - accuracy: 0.7266 - val_loss: 0.6757 - val_accuracy: 0.6980\n",
            "Epoch 19/30\n",
            "266/266 [==============================] - 1s 5ms/step - loss: 0.1974 - accuracy: 0.7300 - val_loss: 0.6777 - val_accuracy: 0.7003\n",
            "Epoch 20/30\n",
            "266/266 [==============================] - 1s 5ms/step - loss: 0.1948 - accuracy: 0.7344 - val_loss: 0.6709 - val_accuracy: 0.7018\n",
            "Epoch 21/30\n",
            "266/266 [==============================] - 1s 5ms/step - loss: 0.1920 - accuracy: 0.7407 - val_loss: 0.6669 - val_accuracy: 0.7022\n",
            "Epoch 22/30\n",
            "266/266 [==============================] - 1s 5ms/step - loss: 0.1893 - accuracy: 0.7470 - val_loss: 0.6869 - val_accuracy: 0.6922\n",
            "Epoch 23/30\n",
            "266/266 [==============================] - 1s 5ms/step - loss: 0.1853 - accuracy: 0.7532 - val_loss: 0.6967 - val_accuracy: 0.6856\n",
            "Epoch 24/30\n",
            "266/266 [==============================] - 1s 5ms/step - loss: 0.1840 - accuracy: 0.7510 - val_loss: 0.6730 - val_accuracy: 0.7051\n",
            "Epoch 25/30\n",
            "266/266 [==============================] - 1s 5ms/step - loss: 0.1805 - accuracy: 0.7591 - val_loss: 0.6717 - val_accuracy: 0.7027\n",
            "Epoch 26/30\n",
            "266/266 [==============================] - 1s 5ms/step - loss: 0.1775 - accuracy: 0.7641 - val_loss: 0.6907 - val_accuracy: 0.6984\n",
            "Epoch 27/30\n",
            "266/266 [==============================] - 1s 5ms/step - loss: 0.1748 - accuracy: 0.7691 - val_loss: 0.6774 - val_accuracy: 0.7046\n",
            "Epoch 28/30\n",
            "266/266 [==============================] - 1s 5ms/step - loss: 0.1719 - accuracy: 0.7729 - val_loss: 0.6636 - val_accuracy: 0.7070\n",
            "Epoch 29/30\n",
            "266/266 [==============================] - 1s 6ms/step - loss: 0.1686 - accuracy: 0.7776 - val_loss: 0.6844 - val_accuracy: 0.7089\n",
            "Epoch 30/30\n",
            "266/266 [==============================] - 1s 5ms/step - loss: 0.1663 - accuracy: 0.7781 - val_loss: 0.6696 - val_accuracy: 0.7008\n"
          ]
        }
      ]
    },
    {
      "cell_type": "code",
      "metadata": {
        "colab": {
          "base_uri": "https://localhost:8080/",
          "height": 295
        },
        "id": "HRI3hO8q7cVT",
        "outputId": "a06d6235-cf77-4ad2-951a-60982127432c"
      },
      "source": [
        "loss = history.history['loss']\n",
        "loss_val = history.history['val_loss']\n",
        "epochs = range(1, len(loss)+1)\n",
        "plt.plot(epochs, loss, 'bo', label='loss_train')\n",
        "plt.plot(epochs, loss_val, 'b', label='loss_val')\n",
        "plt.title('value of the loss function')\n",
        "plt.xlabel('epochs')\n",
        "plt.ylabel('value of the loss function')\n",
        "plt.legend()\n",
        "plt.grid()\n",
        "plt.show()"
      ],
      "execution_count": 34,
      "outputs": [
        {
          "output_type": "display_data",
          "data": {
            "image/png": "[encoded data removed]",
            "text/plain": [
              "<Figure size 432x288 with 1 Axes>"
            ]
          },
          "metadata": {
            "needs_background": "light"
          }
        }
      ]
    },
    {
      "cell_type": "code",
      "metadata": {
        "id": "Xmh3QLnP-Q16"
      },
      "source": [
        "path = '/content/saved_model.hdf5'\n",
        "model.save(path)"
      ],
      "execution_count": 37,
      "outputs": []
    },
    {
      "cell_type": "code",
      "metadata": {
        "colab": {
          "base_uri": "https://localhost:8080/"
        },
        "id": "qT4pdE7WoNlb",
        "outputId": "852578ad-a360-4b60-91ad-23bd285f87d7"
      },
      "source": [
        "model.load_weights(path)\n",
        "test_loss, test_acc = model.evaluate(test_images, test_labels)\n",
        "print('Test Accuracy:', test_acc)"
      ],
      "execution_count": null,
      "outputs": [
        {
          "output_type": "stream",
          "name": "stdout",
          "text": [
            "68/68 [==============================] - 0s 3ms/step - loss: 0.6925 - accuracy: 0.6942\n",
            "Test Accuracy: 0.6941995620727539\n"
          ]
        }
      ]
    },
    {
      "cell_type": "markdown",
      "metadata": {
        "id": "wm6Ntz-V_h4z"
      },
      "source": [
        "# Random prediction"
      ]
    },
    {
      "cell_type": "code",
      "metadata": {
        "colab": {
          "base_uri": "https://localhost:8080/",
          "height": 319
        },
        "id": "HNswophTM-F5",
        "outputId": "53be5950-d111-4ab3-c82e-f7ba34b1ad37"
      },
      "source": [
        "# Get random image in test dataset\n",
        "rand = random.choice(range(len(test_images)))\n",
        "\n",
        "image = test_images[rand]\n",
        "\n",
        "plt.imshow(image.reshape(48,48), cmap=plt.get_cmap('gray'))\n",
        "plt.show()\n",
        "\n",
        "# Feature scaling\n",
        "image = np.expand_dims(image,axis=0)\n",
        "\n",
        "# Prediction\n",
        "predict = model.predict(image)[0]\n",
        "print(\"Output: \", predict)\n",
        "print(\"Model predict: \", selected_emotions[np.argmax(predict)])\n",
        "print(\"True answer: \", selected_emotions[np.argmax(test_labels[rand])])"
      ],
      "execution_count": 50,
      "outputs": [
        {
          "output_type": "display_data",
          "data": {
            "image/png": "[encoded data removed]",
            "text/plain": [
              "<Figure size 432x288 with 1 Axes>"
            ]
          },
          "metadata": {
            "needs_background": "light"
          }
        },
        {
          "output_type": "stream",
          "name": "stdout",
          "text": [
            "Output:  [0.6286876  0.23227298 0.1390394 ]\n",
            "Model predict:  Happy\n",
            "True answer:  Happy\n"
          ]
        }
      ]
    },
    {
      "cell_type": "code",
      "metadata": {
        "id": "ZNpv63h5rNam"
      },
      "source": [
        ""
      ],
      "execution_count": null,
      "outputs": []
    }
  ]
}